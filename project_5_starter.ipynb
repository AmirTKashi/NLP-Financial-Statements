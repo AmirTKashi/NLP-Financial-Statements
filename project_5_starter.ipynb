{
 "cells": [
  {
   "cell_type": "markdown",
   "metadata": {},
   "source": [
    "# Project 5: NLP on Financial Statements\n",
    "## Instructions\n",
    "Each problem consists of a function to implement and instructions on how to implement the function.  The parts of the function that need to be implemented are marked with a `# TODO` comment. After implementing the function, run the cell to test it against the unit tests we've provided. For each problem, we provide one or more unit tests from our `project_tests` package. These unit tests won't tell you if your answer is correct, but will warn you of any major errors. Your code will be checked for the correct solution when you submit it to Udacity.\n",
    "\n",
    "## Packages\n",
    "When you implement the functions, you'll only need to you use the packages you've used in the classroom, like [Pandas](https://pandas.pydata.org/) and [Numpy](http://www.numpy.org/). These packages will be imported for you. We recommend you don't add any import statements, otherwise the grader might not be able to run your code.\n",
    "\n",
    "The other packages that we're importing are `project_helper` and `project_tests`. These are custom packages built to help you solve the problems.  The `project_helper` module contains utility functions and graph functions. The `project_tests` contains the unit tests for all the problems.\n",
    "\n",
    "### Install Packages"
   ]
  },
  {
   "cell_type": "code",
   "execution_count": 1,
   "metadata": {},
   "outputs": [],
   "source": [
    "import sys\n",
    "#!{sys.executable} -m pip install -r requirements.txt"
   ]
  },
  {
   "cell_type": "markdown",
   "metadata": {},
   "source": [
    "### Load Packages"
   ]
  },
  {
   "cell_type": "code",
   "execution_count": 2,
   "metadata": {},
   "outputs": [],
   "source": [
    "import nltk\n",
    "import numpy as np\n",
    "import pandas as pd\n",
    "import pickle\n",
    "import pprint\n",
    "import project_helper\n",
    "import project_tests\n",
    "\n",
    "from tqdm import tqdm"
   ]
  },
  {
   "cell_type": "markdown",
   "metadata": {},
   "source": [
    "### Download NLP Corpora\n",
    "You'll need two corpora to run this project: the stopwords corpus for removing stopwords and wordnet for lemmatizing."
   ]
  },
  {
   "cell_type": "code",
   "execution_count": 3,
   "metadata": {},
   "outputs": [
    {
     "name": "stderr",
     "output_type": "stream",
     "text": [
      "[nltk_data] Downloading package stopwords to /home/amir/nltk_data...\n",
      "[nltk_data]   Package stopwords is already up-to-date!\n",
      "[nltk_data] Downloading package wordnet to /home/amir/nltk_data...\n",
      "[nltk_data]   Package wordnet is already up-to-date!\n"
     ]
    },
    {
     "data": {
      "text/plain": [
       "True"
      ]
     },
     "execution_count": 3,
     "metadata": {},
     "output_type": "execute_result"
    }
   ],
   "source": [
    "nltk.download('stopwords')\n",
    "nltk.download('wordnet')"
   ]
  },
  {
   "cell_type": "markdown",
   "metadata": {},
   "source": [
    "## Get 10ks\n",
    "We'll be running NLP analysis on 10-k documents. To do that, we first need to download the documents. For this project, we'll download 10-ks for a few companies. To lookup documents for these companies, we'll use their CIK. If you would like to run this against other stocks, we've provided the dict `additional_cik` for more stocks. However, the more stocks you try, the long it will take to run."
   ]
  },
  {
   "cell_type": "code",
   "execution_count": 4,
   "metadata": {},
   "outputs": [],
   "source": [
    "cik_lookup = {\n",
    "    'AMZN': '0001018724',\n",
    "    'BMY': '0000014272',   \n",
    "    'CNP': '0001130310',\n",
    "    'CVX': '0000093410',\n",
    "    'FL': '0000850209',\n",
    "    'FRT': '0000034903',\n",
    "    'HON': '0000773840'}\n",
    "\n",
    "additional_cik = {\n",
    "    'AEP': '0000004904',\n",
    "    'AXP': '0000004962',\n",
    "    'BA': '0000012927', \n",
    "    'BK': '0001390777',\n",
    "    'CAT': '0000018230',\n",
    "    'DE': '0000315189',\n",
    "    'DIS': '0001001039',\n",
    "    'DTE': '0000936340',\n",
    "    'ED': '0001047862',\n",
    "    'EMR': '0000032604',\n",
    "    'ETN': '0001551182',\n",
    "    'GE': '0000040545',\n",
    "    'IBM': '0000051143',\n",
    "    'IP': '0000051434',\n",
    "    'JNJ': '0000200406',\n",
    "    'KO': '0000021344',\n",
    "    'LLY': '0000059478',\n",
    "    'MCD': '0000063908',\n",
    "    'MO': '0000764180',\n",
    "    'MRK': '0000310158',\n",
    "    'MRO': '0000101778',\n",
    "    'PCG': '0001004980',\n",
    "    'PEP': '0000077476',\n",
    "    'PFE': '0000078003',\n",
    "    'PG': '0000080424',\n",
    "    'PNR': '0000077360',\n",
    "    'SYY': '0000096021',\n",
    "    'TXN': '0000097476',\n",
    "    'UTX': '0000101829',\n",
    "    'WFC': '0000072971',\n",
    "    'WMT': '0000104169',\n",
    "    'WY': '0000106535',\n",
    "    'XOM': '0000034088'}"
   ]
  },
  {
   "cell_type": "markdown",
   "metadata": {},
   "source": [
    "### Get list of 10-ks\n",
    "The SEC has a limit on the number of calls you can make to the website per second. In order to avoid hiding that limit, we've created the `SecAPI` class. This will cache data from the SEC and prevent you from going over the limit."
   ]
  },
  {
   "cell_type": "code",
   "execution_count": 5,
   "metadata": {},
   "outputs": [],
   "source": [
    "sec_api = project_helper.SecAPI()"
   ]
  },
  {
   "cell_type": "markdown",
   "metadata": {},
   "source": [
    "With the class constructed, let's pull a list of filled 10-ks from the SEC for each company."
   ]
  },
  {
   "cell_type": "code",
   "execution_count": 6,
   "metadata": {},
   "outputs": [],
   "source": [
    "from bs4 import BeautifulSoup\n",
    "\n",
    "def get_sec_data(cik, doc_type, start=0, count=60):\n",
    "    newest_pricing_data = pd.to_datetime('2018-01-01')\n",
    "    rss_url = 'https://www.sec.gov/cgi-bin/browse-edgar?action=getcompany' \\\n",
    "        '&CIK={}&type={}&start={}&count={}&owner=exclude&output=atom' \\\n",
    "        .format(cik, doc_type, start, count)\n",
    "    sec_data = sec_api.get(rss_url)\n",
    "    feed = BeautifulSoup(sec_data.encode('ascii'), 'xml').feed\n",
    "    entries = [\n",
    "        (\n",
    "            entry.content.find('filing-href').getText(),\n",
    "            entry.content.find('filing-type').getText(),\n",
    "            entry.content.find('filing-date').getText())\n",
    "        for entry in feed.find_all('entry', recursive=False)\n",
    "        if pd.to_datetime(entry.content.find('filing-date').getText()) <= newest_pricing_data]\n",
    "\n",
    "    return entries"
   ]
  },
  {
   "cell_type": "markdown",
   "metadata": {},
   "source": [
    "Let's pull the list using the `get_sec_data` function, then display some of the results. For displaying some of the data, we'll use Amazon as an example. "
   ]
  },
  {
   "cell_type": "code",
   "execution_count": 7,
   "metadata": {},
   "outputs": [
    {
     "name": "stdout",
     "output_type": "stream",
     "text": [
      "[('https://www.sec.gov/Archives/edgar/data/1018724/000101872417000011/0001018724-17-000011-index.htm',\n",
      "  '10-K',\n",
      "  '2017-02-10'),\n",
      " ('https://www.sec.gov/Archives/edgar/data/1018724/000101872416000172/0001018724-16-000172-index.htm',\n",
      "  '10-K',\n",
      "  '2016-01-29'),\n",
      " ('https://www.sec.gov/Archives/edgar/data/1018724/000101872415000006/0001018724-15-000006-index.htm',\n",
      "  '10-K',\n",
      "  '2015-01-30'),\n",
      " ('https://www.sec.gov/Archives/edgar/data/1018724/000101872414000006/0001018724-14-000006-index.htm',\n",
      "  '10-K',\n",
      "  '2014-01-31'),\n",
      " ('https://www.sec.gov/Archives/edgar/data/1018724/000119312513028520/0001193125-13-028520-index.htm',\n",
      "  '10-K',\n",
      "  '2013-01-30')]\n"
     ]
    }
   ],
   "source": [
    "example_ticker = 'AMZN'\n",
    "sec_data = {}\n",
    "\n",
    "for ticker, cik in cik_lookup.items():\n",
    "    sec_data[ticker] = get_sec_data(cik, '10-K')\n",
    "\n",
    "pprint.pprint(sec_data[example_ticker][:5])"
   ]
  },
  {
   "cell_type": "code",
   "execution_count": 8,
   "metadata": {},
   "outputs": [
    {
     "data": {
      "text/plain": [
       "{'AMZN': [('https://www.sec.gov/Archives/edgar/data/1018724/000101872417000011/0001018724-17-000011-index.htm',\n",
       "   '10-K',\n",
       "   '2017-02-10'),\n",
       "  ('https://www.sec.gov/Archives/edgar/data/1018724/000101872416000172/0001018724-16-000172-index.htm',\n",
       "   '10-K',\n",
       "   '2016-01-29'),\n",
       "  ('https://www.sec.gov/Archives/edgar/data/1018724/000101872415000006/0001018724-15-000006-index.htm',\n",
       "   '10-K',\n",
       "   '2015-01-30'),\n",
       "  ('https://www.sec.gov/Archives/edgar/data/1018724/000101872414000006/0001018724-14-000006-index.htm',\n",
       "   '10-K',\n",
       "   '2014-01-31'),\n",
       "  ('https://www.sec.gov/Archives/edgar/data/1018724/000119312513028520/0001193125-13-028520-index.htm',\n",
       "   '10-K',\n",
       "   '2013-01-30'),\n",
       "  ('https://www.sec.gov/Archives/edgar/data/1018724/000119312512032846/0001193125-12-032846-index.htm',\n",
       "   '10-K',\n",
       "   '2012-02-01'),\n",
       "  ('https://www.sec.gov/Archives/edgar/data/1018724/000119312511050136/0001193125-11-050136-index.htm',\n",
       "   '10-K/A',\n",
       "   '2011-02-28'),\n",
       "  ('https://www.sec.gov/Archives/edgar/data/1018724/000119312511016253/0001193125-11-016253-index.htm',\n",
       "   '10-K',\n",
       "   '2011-01-28'),\n",
       "  ('https://www.sec.gov/Archives/edgar/data/1018724/000119312510016098/0001193125-10-016098-index.htm',\n",
       "   '10-K',\n",
       "   '2010-01-29'),\n",
       "  ('https://www.sec.gov/Archives/edgar/data/1018724/000119312509014406/0001193125-09-014406-index.htm',\n",
       "   '10-K',\n",
       "   '2009-01-30'),\n",
       "  ('https://www.sec.gov/Archives/edgar/data/1018724/000119312508024707/0001193125-08-024707-index.htm',\n",
       "   '10-K',\n",
       "   '2008-02-11'),\n",
       "  ('https://www.sec.gov/Archives/edgar/data/1018724/000119312507034081/0001193125-07-034081-index.htm',\n",
       "   '10-K',\n",
       "   '2007-02-16'),\n",
       "  ('https://www.sec.gov/Archives/edgar/data/1018724/000119312506034166/0001193125-06-034166-index.htm',\n",
       "   '10-K',\n",
       "   '2006-02-17'),\n",
       "  ('https://www.sec.gov/Archives/edgar/data/1018724/000119312505047032/0001193125-05-047032-index.htm',\n",
       "   '10-K',\n",
       "   '2005-03-11'),\n",
       "  ('https://www.sec.gov/Archives/edgar/data/1018724/000119312504029488/0001193125-04-029488-index.htm',\n",
       "   '10-K',\n",
       "   '2004-02-25'),\n",
       "  ('https://www.sec.gov/Archives/edgar/data/1018724/000095014903000355/0000950149-03-000355-index.htm',\n",
       "   '10-K',\n",
       "   '2003-02-19'),\n",
       "  ('https://www.sec.gov/Archives/edgar/data/1018724/000103221002000059/0001032210-02-000059-index.htm',\n",
       "   '10-K405',\n",
       "   '2002-01-24'),\n",
       "  ('https://www.sec.gov/Archives/edgar/data/1018724/000103221001500087/0001032210-01-500087-index.htm',\n",
       "   '10-K405',\n",
       "   '2001-03-23'),\n",
       "  ('https://www.sec.gov/Archives/edgar/data/1018724/000089102000001638/0000891020-00-001638-index.htm',\n",
       "   '10-K/A',\n",
       "   '2000-09-08'),\n",
       "  ('https://www.sec.gov/Archives/edgar/data/1018724/0000891020-00-000622-index.html',\n",
       "   '10-K',\n",
       "   '2000-03-29'),\n",
       "  ('https://www.sec.gov/Archives/edgar/data/1018724/0000891020-99-000375-index.html',\n",
       "   '10-K',\n",
       "   '1999-03-05'),\n",
       "  ('https://www.sec.gov/Archives/edgar/data/1018724/0000891020-98-000448-index.html',\n",
       "   '10-K405',\n",
       "   '1998-03-30')],\n",
       " 'BMY': [('https://www.sec.gov/Archives/edgar/data/14272/000001427217000047/0000014272-17-000047-index.htm',\n",
       "   '10-K',\n",
       "   '2017-02-21'),\n",
       "  ('https://www.sec.gov/Archives/edgar/data/14272/000001427216000288/0000014272-16-000288-index.htm',\n",
       "   '10-K',\n",
       "   '2016-02-12'),\n",
       "  ('https://www.sec.gov/Archives/edgar/data/14272/000001427215000055/0000014272-15-000055-index.htm',\n",
       "   '10-K',\n",
       "   '2015-02-13'),\n",
       "  ('https://www.sec.gov/Archives/edgar/data/14272/000001427214000165/0000014272-14-000165-index.htm',\n",
       "   '10-K/A',\n",
       "   '2014-04-03'),\n",
       "  ('https://www.sec.gov/Archives/edgar/data/14272/000001427214000054/0000014272-14-000054-index.htm',\n",
       "   '10-K',\n",
       "   '2014-02-14'),\n",
       "  ('https://www.sec.gov/Archives/edgar/data/14272/000119312513061678/0001193125-13-061678-index.htm',\n",
       "   '10-K',\n",
       "   '2013-02-15'),\n",
       "  ('https://www.sec.gov/Archives/edgar/data/14272/000119312512066416/0001193125-12-066416-index.htm',\n",
       "   '10-K',\n",
       "   '2012-02-17'),\n",
       "  ('https://www.sec.gov/Archives/edgar/data/14272/000119312511040120/0001193125-11-040120-index.htm',\n",
       "   '10-K',\n",
       "   '2011-02-18'),\n",
       "  ('https://www.sec.gov/Archives/edgar/data/14272/000119312510035167/0001193125-10-035167-index.htm',\n",
       "   '10-K',\n",
       "   '2010-02-19'),\n",
       "  ('https://www.sec.gov/Archives/edgar/data/14272/000119312509033538/0001193125-09-033538-index.htm',\n",
       "   '10-K',\n",
       "   '2009-02-20'),\n",
       "  ('https://www.sec.gov/Archives/edgar/data/14272/000119312508035566/0001193125-08-035566-index.htm',\n",
       "   '10-K',\n",
       "   '2008-02-22'),\n",
       "  ('https://www.sec.gov/Archives/edgar/data/14272/000119312507039915/0001193125-07-039915-index.htm',\n",
       "   '10-K',\n",
       "   '2007-02-26'),\n",
       "  ('https://www.sec.gov/Archives/edgar/data/14272/000119312506052456/0001193125-06-052456-index.htm',\n",
       "   '10-K',\n",
       "   '2006-03-14'),\n",
       "  ('https://www.sec.gov/Archives/edgar/data/14272/000119312505041808/0001193125-05-041808-index.htm',\n",
       "   '10-K',\n",
       "   '2005-03-04'),\n",
       "  ('https://www.sec.gov/Archives/edgar/data/14272/000119312504110278/0001193125-04-110278-index.htm',\n",
       "   '10-K/A',\n",
       "   '2004-06-28'),\n",
       "  ('https://www.sec.gov/Archives/edgar/data/14272/000119312504041353/0001193125-04-041353-index.htm',\n",
       "   '10-K',\n",
       "   '2004-03-15'),\n",
       "  ('https://www.sec.gov/Archives/edgar/data/14272/000104746903010810/0001047469-03-010810-index.htm',\n",
       "   '10-K',\n",
       "   '2003-03-28'),\n",
       "  ('https://www.sec.gov/Archives/edgar/data/14272/000104746903009157/0001047469-03-009157-index.htm',\n",
       "   '10-K/A',\n",
       "   '2003-03-19'),\n",
       "  ('https://www.sec.gov/Archives/edgar/data/14272/000091205702013034/0000912057-02-013034-index.htm',\n",
       "   '10-K405',\n",
       "   '2002-04-01'),\n",
       "  ('https://www.sec.gov/Archives/edgar/data/14272/000001427201500006/0000014272-01-500006-index.htm',\n",
       "   '10-K',\n",
       "   '2001-04-02'),\n",
       "  ('https://www.sec.gov/Archives/edgar/data/14272/0000014272-00-000002-index.html',\n",
       "   '10-K',\n",
       "   '2000-03-30'),\n",
       "  ('https://www.sec.gov/Archives/edgar/data/14272/0000014272-99-000002-index.html',\n",
       "   '10-K',\n",
       "   '1999-03-30'),\n",
       "  ('https://www.sec.gov/Archives/edgar/data/14272/0000014272-98-000002-index.html',\n",
       "   '10-K',\n",
       "   '1998-03-31'),\n",
       "  ('https://www.sec.gov/Archives/edgar/data/14272/0000014272-97-000008-index.html',\n",
       "   '10-K',\n",
       "   '1997-03-31'),\n",
       "  ('https://www.sec.gov/Archives/edgar/data/14272/0000014272-96-000002-index.html',\n",
       "   '10-K',\n",
       "   '1996-03-28'),\n",
       "  ('https://www.sec.gov/Archives/edgar/data/14272/0000014272-95-000004-index.html',\n",
       "   '10-K',\n",
       "   '1995-03-29'),\n",
       "  ('https://www.sec.gov/Archives/edgar/data/14272/0000014272-94-000003-index.html',\n",
       "   '10-K',\n",
       "   '1994-03-31')],\n",
       " 'CNP': [('https://www.sec.gov/Archives/edgar/data/1130310/000113031017000006/0001130310-17-000006-index.htm',\n",
       "   '10-K',\n",
       "   '2017-02-28'),\n",
       "  ('https://www.sec.gov/Archives/edgar/data/1130310/000113031016000031/0001130310-16-000031-index.htm',\n",
       "   '10-K',\n",
       "   '2016-02-26'),\n",
       "  ('https://www.sec.gov/Archives/edgar/data/1130310/000113031015000008/0001130310-15-000008-index.htm',\n",
       "   '10-K',\n",
       "   '2015-02-26'),\n",
       "  ('https://www.sec.gov/Archives/edgar/data/1130310/000113031014000005/0001130310-14-000005-index.htm',\n",
       "   '10-K',\n",
       "   '2014-02-26'),\n",
       "  ('https://www.sec.gov/Archives/edgar/data/1130310/000113031013000006/0001130310-13-000006-index.htm',\n",
       "   '10-K',\n",
       "   '2013-02-27'),\n",
       "  ('https://www.sec.gov/Archives/edgar/data/1130310/000113031012000011/0001130310-12-000011-index.htm',\n",
       "   '10-K',\n",
       "   '2012-02-29'),\n",
       "  ('https://www.sec.gov/Archives/edgar/data/1130310/000113031011000020/0001130310-11-000020-index.htm',\n",
       "   '10-K/A',\n",
       "   '2011-03-30'),\n",
       "  ('https://www.sec.gov/Archives/edgar/data/1130310/000113031011000006/0001130310-11-000006-index.htm',\n",
       "   '10-K',\n",
       "   '2011-03-01'),\n",
       "  ('https://www.sec.gov/Archives/edgar/data/1130310/000113031010000006/0001130310-10-000006-index.htm',\n",
       "   '10-K',\n",
       "   '2010-02-26'),\n",
       "  ('https://www.sec.gov/Archives/edgar/data/1130310/000113031009000004/0001130310-09-000004-index.htm',\n",
       "   '10-K',\n",
       "   '2009-02-25'),\n",
       "  ('https://www.sec.gov/Archives/edgar/data/1130310/000095013408003670/0000950134-08-003670-index.htm',\n",
       "   '10-K',\n",
       "   '2008-02-28'),\n",
       "  ('https://www.sec.gov/Archives/edgar/data/1130310/000095013407004335/0000950134-07-004335-index.htm',\n",
       "   '10-K',\n",
       "   '2007-02-28'),\n",
       "  ('https://www.sec.gov/Archives/edgar/data/1130310/000095013406005252/0000950134-06-005252-index.htm',\n",
       "   '10-K',\n",
       "   '2006-03-16'),\n",
       "  ('https://www.sec.gov/Archives/edgar/data/1130310/000095012906000174/0000950129-06-000174-index.htm',\n",
       "   '10-K/A',\n",
       "   '2006-01-10'),\n",
       "  ('https://www.sec.gov/Archives/edgar/data/1130310/000095012905008803/0000950129-05-008803-index.htm',\n",
       "   '10-K/A',\n",
       "   '2005-08-29'),\n",
       "  ('https://www.sec.gov/Archives/edgar/data/1130310/000095012905002466/0000950129-05-002466-index.htm',\n",
       "   '10-K',\n",
       "   '2005-03-16'),\n",
       "  ('https://www.sec.gov/Archives/edgar/data/1130310/000095012904001267/0000950129-04-001267-index.htm',\n",
       "   '10-K',\n",
       "   '2004-03-15'),\n",
       "  ('https://www.sec.gov/Archives/edgar/data/1130310/000095012903001299/0000950129-03-001299-index.htm',\n",
       "   '10-K',\n",
       "   '2003-03-10'),\n",
       "  ('https://www.sec.gov/Archives/edgar/data/1130310/000095012902001679/0000950129-02-001679-index.htm',\n",
       "   '10-K405',\n",
       "   '2002-04-01')],\n",
       " 'CVX': [('https://www.sec.gov/Archives/edgar/data/93410/000009341017000013/0000093410-17-000013-index.htm',\n",
       "   '10-K',\n",
       "   '2017-02-23'),\n",
       "  ('https://www.sec.gov/Archives/edgar/data/93410/000009341016000049/0000093410-16-000049-index.htm',\n",
       "   '10-K',\n",
       "   '2016-02-25'),\n",
       "  ('https://www.sec.gov/Archives/edgar/data/93410/000009341015000010/0000093410-15-000010-index.htm',\n",
       "   '10-K',\n",
       "   '2015-02-20'),\n",
       "  ('https://www.sec.gov/Archives/edgar/data/93410/000009341014000011/0000093410-14-000011-index.htm',\n",
       "   '10-K',\n",
       "   '2014-02-21'),\n",
       "  ('https://www.sec.gov/Archives/edgar/data/93410/000009341013000003/0000093410-13-000003-index.htm',\n",
       "   '10-K',\n",
       "   '2013-02-22'),\n",
       "  ('https://www.sec.gov/Archives/edgar/data/93410/000095012312002976/0000950123-12-002976-index.htm',\n",
       "   '10-K',\n",
       "   '2012-02-23'),\n",
       "  ('https://www.sec.gov/Archives/edgar/data/93410/000095012311017688/0000950123-11-017688-index.htm',\n",
       "   '10-K',\n",
       "   '2011-02-24'),\n",
       "  ('https://www.sec.gov/Archives/edgar/data/93410/000095012310016846/0000950123-10-016846-index.htm',\n",
       "   '10-K',\n",
       "   '2010-02-25'),\n",
       "  ('https://www.sec.gov/Archives/edgar/data/93410/000089161809000054/0000891618-09-000054-index.htm',\n",
       "   '10-K',\n",
       "   '2009-02-26'),\n",
       "  ('https://www.sec.gov/Archives/edgar/data/93410/000095013408005470/0000950134-08-005470-index.htm',\n",
       "   '10-K/A',\n",
       "   '2008-03-27'),\n",
       "  ('https://www.sec.gov/Archives/edgar/data/93410/000095013408003672/0000950134-08-003672-index.htm',\n",
       "   '10-K',\n",
       "   '2008-02-28'),\n",
       "  ('https://www.sec.gov/Archives/edgar/data/93410/000095014907000074/0000950149-07-000074-index.htm',\n",
       "   '10-K',\n",
       "   '2007-02-28'),\n",
       "  ('https://www.sec.gov/Archives/edgar/data/93410/000095014906000076/0000950149-06-000076-index.htm',\n",
       "   '10-K',\n",
       "   '2006-03-01'),\n",
       "  ('https://www.sec.gov/Archives/edgar/data/93410/000095013405004137/0000950134-05-004137-index.htm',\n",
       "   '10-K',\n",
       "   '2005-03-03'),\n",
       "  ('https://www.sec.gov/Archives/edgar/data/93410/000095013404003128/0000950134-04-003128-index.htm',\n",
       "   '10-K',\n",
       "   '2004-03-09'),\n",
       "  ('https://www.sec.gov/Archives/edgar/data/93410/000095014903000567/0000950149-03-000567-index.htm',\n",
       "   '10-K',\n",
       "   '2003-03-17'),\n",
       "  ('https://www.sec.gov/Archives/edgar/data/93410/000095014902000568/0000950149-02-000568-index.htm',\n",
       "   '10-K405',\n",
       "   '2002-03-27'),\n",
       "  ('https://www.sec.gov/Archives/edgar/data/93410/000009341001000015/0000093410-01-000015-index.htm',\n",
       "   '10-K',\n",
       "   '2001-03-28'),\n",
       "  ('https://www.sec.gov/Archives/edgar/data/93410/0000093410-00-000006-index.html',\n",
       "   '10-K',\n",
       "   '2000-03-30'),\n",
       "  ('https://www.sec.gov/Archives/edgar/data/93410/0000093410-99-000034-index.html',\n",
       "   '10-K',\n",
       "   '1999-03-31'),\n",
       "  ('https://www.sec.gov/Archives/edgar/data/93410/0000093410-98-000003-index.html',\n",
       "   '10-K405',\n",
       "   '1998-03-25'),\n",
       "  ('https://www.sec.gov/Archives/edgar/data/93410/0000093410-97-000004-index.html',\n",
       "   '10-K405',\n",
       "   '1997-03-26'),\n",
       "  ('https://www.sec.gov/Archives/edgar/data/93410/0000093410-96-000003-index.html',\n",
       "   '10-K',\n",
       "   '1996-03-27'),\n",
       "  ('https://www.sec.gov/Archives/edgar/data/93410/0000093410-95-000012-index.html',\n",
       "   '10-K',\n",
       "   '1995-03-30'),\n",
       "  ('https://www.sec.gov/Archives/edgar/data/93410/0000093410-94-000002-index.html',\n",
       "   '10-K',\n",
       "   '1994-03-30')],\n",
       " 'FL': [('https://www.sec.gov/Archives/edgar/data/850209/000085020917000003/0000850209-17-000003-index.htm',\n",
       "   '10-K',\n",
       "   '2017-03-23'),\n",
       "  ('https://www.sec.gov/Archives/edgar/data/850209/000114420416090138/0001144204-16-090138-index.htm',\n",
       "   '10-K',\n",
       "   '2016-03-24'),\n",
       "  ('https://www.sec.gov/Archives/edgar/data/850209/000114420415019391/0001144204-15-019391-index.htm',\n",
       "   '10-K',\n",
       "   '2015-03-30'),\n",
       "  ('https://www.sec.gov/Archives/edgar/data/850209/000114420414019510/0001144204-14-019510-index.htm',\n",
       "   '10-K',\n",
       "   '2014-03-31'),\n",
       "  ('https://www.sec.gov/Archives/edgar/data/850209/000114420413019239/0001144204-13-019239-index.htm',\n",
       "   '10-K',\n",
       "   '2013-04-01'),\n",
       "  ('https://www.sec.gov/Archives/edgar/data/850209/000114420412017162/0001144204-12-017162-index.htm',\n",
       "   '10-K',\n",
       "   '2012-03-26'),\n",
       "  ('https://www.sec.gov/Archives/edgar/data/850209/000114420411017589/0001144204-11-017589-index.htm',\n",
       "   '10-K',\n",
       "   '2011-03-28'),\n",
       "  ('https://www.sec.gov/Archives/edgar/data/850209/000114420410016376/0001144204-10-016376-index.htm',\n",
       "   '10-K',\n",
       "   '2010-03-29'),\n",
       "  ('https://www.sec.gov/Archives/edgar/data/850209/000120677409000650/0001206774-09-000650-index.htm',\n",
       "   '10-K',\n",
       "   '2009-03-30'),\n",
       "  ('https://www.sec.gov/Archives/edgar/data/850209/000120677408000652/0001206774-08-000652-index.htm',\n",
       "   '10-K',\n",
       "   '2008-03-31'),\n",
       "  ('https://www.sec.gov/Archives/edgar/data/850209/000120677407000876/0001206774-07-000876-index.htm',\n",
       "   '10-K',\n",
       "   '2007-04-02'),\n",
       "  ('https://www.sec.gov/Archives/edgar/data/850209/000120677406000567/0001206774-06-000567-index.htm',\n",
       "   '10-K',\n",
       "   '2006-03-27'),\n",
       "  ('https://www.sec.gov/Archives/edgar/data/850209/000120677405000473/0001206774-05-000473-index.htm',\n",
       "   '10-K',\n",
       "   '2005-03-29'),\n",
       "  ('https://www.sec.gov/Archives/edgar/data/850209/000120677404000280/0001206774-04-000280-index.htm',\n",
       "   '10-K',\n",
       "   '2004-04-05'),\n",
       "  ('https://www.sec.gov/Archives/edgar/data/850209/000095012303006233/0000950123-03-006233-index.htm',\n",
       "   '10-K',\n",
       "   '2003-05-19'),\n",
       "  ('https://www.sec.gov/Archives/edgar/data/850209/000095012302004331/0000950123-02-004331-index.htm',\n",
       "   '10-K',\n",
       "   '2002-04-29'),\n",
       "  ('https://www.sec.gov/Archives/edgar/data/850209/000095012301501033/0000950123-01-501033-index.htm',\n",
       "   '10-K405',\n",
       "   '2001-04-23'),\n",
       "  ('https://www.sec.gov/Archives/edgar/data/850209/0000950123-00-003916-index.html',\n",
       "   '10-K405',\n",
       "   '2000-04-21'),\n",
       "  ('https://www.sec.gov/Archives/edgar/data/850209/0000950123-99-005256-index.html',\n",
       "   '10-K405/A',\n",
       "   '1999-05-28'),\n",
       "  ('https://www.sec.gov/Archives/edgar/data/850209/0000850209-99-000005-index.html',\n",
       "   '10-K405',\n",
       "   '1999-04-30'),\n",
       "  ('https://www.sec.gov/Archives/edgar/data/850209/0000950123-98-003982-index.html',\n",
       "   '10-K405',\n",
       "   '1998-04-21'),\n",
       "  ('https://www.sec.gov/Archives/edgar/data/850209/0000950123-97-003497-index.html',\n",
       "   '10-K405',\n",
       "   '1997-04-25')],\n",
       " 'FRT': [('https://www.sec.gov/Archives/edgar/data/34903/000003490317000008/0000034903-17-000008-index.htm',\n",
       "   '10-K',\n",
       "   '2017-02-13'),\n",
       "  ('https://www.sec.gov/Archives/edgar/data/34903/000003490316000045/0000034903-16-000045-index.htm',\n",
       "   '10-K',\n",
       "   '2016-02-09'),\n",
       "  ('https://www.sec.gov/Archives/edgar/data/34903/000003490315000014/0000034903-15-000014-index.htm',\n",
       "   '10-K',\n",
       "   '2015-02-10'),\n",
       "  ('https://www.sec.gov/Archives/edgar/data/34903/000003490314000009/0000034903-14-000009-index.htm',\n",
       "   '10-K',\n",
       "   '2014-02-11'),\n",
       "  ('https://www.sec.gov/Archives/edgar/data/34903/000003490313000006/0000034903-13-000006-index.htm',\n",
       "   '10-K',\n",
       "   '2013-02-12'),\n",
       "  ('https://www.sec.gov/Archives/edgar/data/34903/000003490312000008/0000034903-12-000008-index.htm',\n",
       "   '10-K',\n",
       "   '2012-02-16'),\n",
       "  ('https://www.sec.gov/Archives/edgar/data/34903/000119312511036800/0001193125-11-036800-index.htm',\n",
       "   '10-K',\n",
       "   '2011-02-15'),\n",
       "  ('https://www.sec.gov/Archives/edgar/data/34903/000119312510033308/0001193125-10-033308-index.htm',\n",
       "   '10-K',\n",
       "   '2010-02-17'),\n",
       "  ('https://www.sec.gov/Archives/edgar/data/34903/000119312509137690/0001193125-09-137690-index.htm',\n",
       "   '10-K/A',\n",
       "   '2009-06-25'),\n",
       "  ('https://www.sec.gov/Archives/edgar/data/34903/000119312509038641/0001193125-09-038641-index.htm',\n",
       "   '10-K',\n",
       "   '2009-02-26'),\n",
       "  ('https://www.sec.gov/Archives/edgar/data/34903/000119312508039905/0001193125-08-039905-index.htm',\n",
       "   '10-K',\n",
       "   '2008-02-27'),\n",
       "  ('https://www.sec.gov/Archives/edgar/data/34903/000119312507043678/0001193125-07-043678-index.htm',\n",
       "   '10-K',\n",
       "   '2007-03-01'),\n",
       "  ('https://www.sec.gov/Archives/edgar/data/34903/000119312506050874/0001193125-06-050874-index.htm',\n",
       "   '10-K/A',\n",
       "   '2006-03-10'),\n",
       "  ('https://www.sec.gov/Archives/edgar/data/34903/000119312506044561/0001193125-06-044561-index.htm',\n",
       "   '10-K',\n",
       "   '2006-03-03'),\n",
       "  ('https://www.sec.gov/Archives/edgar/data/34903/000119312505043736/0001193125-05-043736-index.htm',\n",
       "   '10-K',\n",
       "   '2005-03-07'),\n",
       "  ('https://www.sec.gov/Archives/edgar/data/34903/000095013304001247/0000950133-04-001247-index.htm',\n",
       "   '10-K/A',\n",
       "   '2004-03-31'),\n",
       "  ('https://www.sec.gov/Archives/edgar/data/34903/000095013304001168/0000950133-04-001168-index.htm',\n",
       "   '10-K/A',\n",
       "   '2004-03-26'),\n",
       "  ('https://www.sec.gov/Archives/edgar/data/34903/000095013304000888/0000950133-04-000888-index.htm',\n",
       "   '10-K',\n",
       "   '2004-03-15'),\n",
       "  ('https://www.sec.gov/Archives/edgar/data/34903/000092838503000860/0000928385-03-000860-index.htm',\n",
       "   '10-K',\n",
       "   '2003-03-26'),\n",
       "  ('https://www.sec.gov/Archives/edgar/data/34903/000092838502000915/0000928385-02-000915-index.htm',\n",
       "   '10-K405',\n",
       "   '2002-03-22'),\n",
       "  ('https://www.sec.gov/Archives/edgar/data/34903/000092838501500026/0000928385-01-500026-index.htm',\n",
       "   '10-K405',\n",
       "   '2001-03-15'),\n",
       "  ('https://www.sec.gov/Archives/edgar/data/34903/0000950109-00-001048-index.html',\n",
       "   '10-K405',\n",
       "   '2000-03-21'),\n",
       "  ('https://www.sec.gov/Archives/edgar/data/34903/0000928385-99-000847-index.html',\n",
       "   '10-K',\n",
       "   '1999-03-19'),\n",
       "  ('https://www.sec.gov/Archives/edgar/data/34903/0000928385-98-000440-index.html',\n",
       "   '10-K405',\n",
       "   '1998-03-11'),\n",
       "  ('https://www.sec.gov/Archives/edgar/data/34903/0000928385-97-000296-index.html',\n",
       "   '10-K',\n",
       "   '1997-02-18'),\n",
       "  ('https://www.sec.gov/Archives/edgar/data/34903/0000928385-96-000186-index.html',\n",
       "   '10-K',\n",
       "   '1996-03-15'),\n",
       "  ('https://www.sec.gov/Archives/edgar/data/34903/0000928385-95-000431-index.html',\n",
       "   '10-K405/A',\n",
       "   '1995-09-27'),\n",
       "  ('https://www.sec.gov/Archives/edgar/data/34903/0000898432-95-000073-index.html',\n",
       "   '10-K405',\n",
       "   '1995-03-22'),\n",
       "  ('https://www.sec.gov/Archives/edgar/data/34903/0000898432-94-000032-index.html',\n",
       "   '10-K',\n",
       "   '1994-03-18')],\n",
       " 'HON': [('https://www.sec.gov/Archives/edgar/data/773840/000093041317000391/0000930413-17-000391-index.htm',\n",
       "   '10-K',\n",
       "   '2017-02-10'),\n",
       "  ('https://www.sec.gov/Archives/edgar/data/773840/000093041316005457/0000930413-16-005457-index.htm',\n",
       "   '10-K',\n",
       "   '2016-02-12'),\n",
       "  ('https://www.sec.gov/Archives/edgar/data/773840/000093041315000621/0000930413-15-000621-index.htm',\n",
       "   '10-K',\n",
       "   '2015-02-13'),\n",
       "  ('https://www.sec.gov/Archives/edgar/data/773840/000093041314000634/0000930413-14-000634-index.htm',\n",
       "   '10-K',\n",
       "   '2014-02-14'),\n",
       "  ('https://www.sec.gov/Archives/edgar/data/773840/000093041313000907/0000930413-13-000907-index.htm',\n",
       "   '10-K',\n",
       "   '2013-02-15'),\n",
       "  ('https://www.sec.gov/Archives/edgar/data/773840/000093041312000976/0000930413-12-000976-index.htm',\n",
       "   '10-K',\n",
       "   '2012-02-17'),\n",
       "  ('https://www.sec.gov/Archives/edgar/data/773840/000093041311000961/0000930413-11-000961-index.htm',\n",
       "   '10-K',\n",
       "   '2011-02-11'),\n",
       "  ('https://www.sec.gov/Archives/edgar/data/773840/000093041310000784/0000930413-10-000784-index.htm',\n",
       "   '10-K',\n",
       "   '2010-02-12'),\n",
       "  ('https://www.sec.gov/Archives/edgar/data/773840/000093041309000801/0000930413-09-000801-index.htm',\n",
       "   '10-K',\n",
       "   '2009-02-13'),\n",
       "  ('https://www.sec.gov/Archives/edgar/data/773840/000093041308001037/0000930413-08-001037-index.htm',\n",
       "   '10-K',\n",
       "   '2008-02-15'),\n",
       "  ('https://www.sec.gov/Archives/edgar/data/773840/000093041307001369/0000930413-07-001369-index.htm',\n",
       "   '10-K',\n",
       "   '2007-02-16'),\n",
       "  ('https://www.sec.gov/Archives/edgar/data/773840/000095011706000980/0000950117-06-000980-index.htm',\n",
       "   '10-K',\n",
       "   '2006-03-01'),\n",
       "  ('https://www.sec.gov/Archives/edgar/data/773840/000095011705000756/0000950117-05-000756-index.htm',\n",
       "   '10-K',\n",
       "   '2005-02-25'),\n",
       "  ('https://www.sec.gov/Archives/edgar/data/773840/000095011704000868/0000950117-04-000868-index.htm',\n",
       "   '10-K',\n",
       "   '2004-03-04'),\n",
       "  ('https://www.sec.gov/Archives/edgar/data/773840/000095011703000910/0000950117-03-000910-index.htm',\n",
       "   '10-K',\n",
       "   '2003-03-06'),\n",
       "  ('https://www.sec.gov/Archives/edgar/data/773840/000095011702000539/0000950117-02-000539-index.htm',\n",
       "   '10-K',\n",
       "   '2002-03-20'),\n",
       "  ('https://www.sec.gov/Archives/edgar/data/773840/000095011701000640/0000950117-01-000640-index.htm',\n",
       "   '10-K',\n",
       "   '2001-03-30'),\n",
       "  ('https://www.sec.gov/Archives/edgar/data/773840/000095011700001544/0000950117-00-001544-index.htm',\n",
       "   '10-K405/A',\n",
       "   '2000-06-29'),\n",
       "  ('https://www.sec.gov/Archives/edgar/data/773840/0000950117-00-000401-index.html',\n",
       "   '10-K405',\n",
       "   '2000-02-23'),\n",
       "  ('https://www.sec.gov/Archives/edgar/data/773840/0000950117-99-000452-index.html',\n",
       "   '10-K405',\n",
       "   '1999-03-04'),\n",
       "  ('https://www.sec.gov/Archives/edgar/data/773840/0000950117-98-000419-index.html',\n",
       "   '10-K',\n",
       "   '1998-02-26'),\n",
       "  ('https://www.sec.gov/Archives/edgar/data/773840/0000950117-97-000341-index.html',\n",
       "   '10-K405',\n",
       "   '1997-02-28'),\n",
       "  ('https://www.sec.gov/Archives/edgar/data/773840/0000950117-96-000146-index.html',\n",
       "   '10-K',\n",
       "   '1996-02-27'),\n",
       "  ('https://www.sec.gov/Archives/edgar/data/773840/0000950117-95-000038-index.html',\n",
       "   '10-K',\n",
       "   '1995-03-02'),\n",
       "  ('https://www.sec.gov/Archives/edgar/data/773840/0000950117-94-000067-index.html',\n",
       "   '10-K/A',\n",
       "   '1994-03-15')]}"
      ]
     },
     "execution_count": 8,
     "metadata": {},
     "output_type": "execute_result"
    }
   ],
   "source": [
    "sec_data"
   ]
  },
  {
   "cell_type": "markdown",
   "metadata": {},
   "source": [
    "### Download 10-ks\n",
    "As you see, this is a list of urls. These urls point to a file that contains metadata related to each filling. Since we don't care about the metadata, we'll pull the filling by replacing the url with the filling url."
   ]
  },
  {
   "cell_type": "code",
   "execution_count": 9,
   "metadata": {},
   "outputs": [
    {
     "name": "stderr",
     "output_type": "stream",
     "text": [
      "Downloading BMY Fillings: 100%|██████████| 27/27 [00:16<00:00,  1.66filling/s]\n",
      "Downloading HON Fillings: 100%|██████████| 25/25 [00:12<00:00,  2.04filling/s]\n",
      "Downloading FL Fillings: 100%|██████████| 22/22 [00:06<00:00,  3.24filling/s]\n",
      "Downloading AMZN Fillings: 100%|██████████| 22/22 [00:09<00:00,  2.40filling/s]\n",
      "Downloading CVX Fillings: 100%|██████████| 25/25 [00:17<00:00,  1.40filling/s]\n",
      "Downloading FRT Fillings: 100%|██████████| 29/29 [00:10<00:00,  2.72filling/s]\n",
      "Downloading CNP Fillings: 100%|██████████| 19/19 [00:09<00:00,  1.93filling/s]"
     ]
    },
    {
     "name": "stdout",
     "output_type": "stream",
     "text": [
      "Example Document:\n",
      "\n",
      "-----BEGIN PRIVACY-ENHANCED MESSAGE-----\n",
      "Proc-Type: 2001,MIC-CLEAR\n",
      "Originator-Name: webmaster@www.sec.gov\n",
      "Originator-Key-Asymmetric:\n",
      " MFgwCgYEVQgBAQICAf8DSgAwRwJAW2sNKK9AVtBzYZmr6aGjlWyK3XmZv3dTINen\n",
      " TWSM7vrzLADbmYQaionwg5sDW3P6oaM5D3tdezXMm7z1T+B+twIDAQAB\n",
      "MIC-Info: RSA-MD5,RSA,\n",
      " JNE6XDsunKzymWKsEi8f04so9gMQMnQ7H4OfJSRL04D7RVF1MOcJrINa+MTeXkDj\n",
      " NMax5zStsb5FwjnfTKOGkA==\n",
      "\n",
      "<SEC-DOCUMENT>0001193125-08-024707.txt : 20080211\n",
      "<SEC-HEADER>0001193125-08-024707.hdr.sgml : 20080211\n",
      "<ACCEPTANCE-DATETIME>20080208214332\n",
      "ACCESSION NUMBER:\t\t0001193125-08-024707\n",
      "CONFORMED SUBMISSION TYPE:\t10-K\n",
      "PUBLIC DOCUMENT COUNT:\t\t12\n",
      "CONFORMED PERIOD OF REPORT:\t20071231\n",
      "FILED AS OF DATE:\t\t20080211\n",
      "DATE AS OF CHANGE:\t\t20080208\n",
      "\n",
      "FILER:\n",
      "\n",
      "\tCOMPANY DATA:\t\n",
      "\t\tCOMPANY CONFORMED NAME:\t\t\tAMAZON COM INC\n",
      "\t\tCENTRAL INDEX KEY:\t\t\t0001018724\n",
      "\t\tSTANDARD INDUSTRIAL CLASSIFICATION:\tRETAIL-CATALOG & MAIL-ORDER HOUSES [5961]\n",
      "\t\tIRS NUMBER:\t\t\t\t911646860\n",
      "\t\tSTATE OF INCORPORATION:\t\t\tDE\n",
      "\t\tFISCAL YEAR END:\t\t\t1231\n",
      "\n",
      "\tFILING VALUES:\n",
      "\t\tFORM TYPE:...\n"
     ]
    },
    {
     "name": "stderr",
     "output_type": "stream",
     "text": [
      "\n"
     ]
    }
   ],
   "source": [
    "raw_fillings_by_ticker = {}\n",
    "\n",
    "for ticker, data in sec_data.items():\n",
    "    raw_fillings_by_ticker[ticker] = {}\n",
    "    for index_url, file_type, file_date in tqdm(data, desc='Downloading {} Fillings'.format(ticker), unit='filling'):\n",
    "        if (file_type == '10-K'):\n",
    "            file_url = index_url.replace('-index.htm', '.txt').replace('.txtl', '.txt')            \n",
    "            \n",
    "            raw_fillings_by_ticker[ticker][file_date] = sec_api.get(file_url)\n",
    "\n",
    "\n",
    "print('Example Document:\\n\\n{}...'.format(next(iter(raw_fillings_by_ticker[example_ticker].values()))[:1000]))"
   ]
  },
  {
   "cell_type": "code",
   "execution_count": 10,
   "metadata": {},
   "outputs": [
    {
     "name": "stdout",
     "output_type": "stream",
     "text": [
      "<SEC-DOCUMENT>0000093410-13-000003.txt : 20130222\n",
      "<SEC-HEADER>0000093410-13-000003.hdr.sgml : 20130222\n",
      "<ACCEPTANCE-DATETIME>20130222115546\n",
      "ACCESSION NUMBER:\t\t0000093410-13-000003\n",
      "CONFORMED SUBMISSION TYPE:\t10-K\n",
      "PUBLIC DOCUMENT COUNT:\t\t62\n",
      "CONFORMED PERIOD OF REPORT:\t20121231\n",
      "FILED AS OF DATE:\t\t20130222\n",
      "DATE AS OF CHANGE:\t\t20130222\n",
      "\n",
      "FILER:\n",
      "\n",
      "\tCOMPANY DATA:\t\n",
      "\t\tCOMPANY CONFORMED NAME:\t\t\tCHEVRON CORP\n",
      "\t\tCENTRAL INDEX KEY:\t\t\t0000093410\n",
      "\t\tSTANDARD INDUSTRIAL CLASSIFICATION:\tPETROLEUM REFINING [2911]\n",
      "\t\tIRS NUMBER:\t\t\t\t940890210\n",
      "\t\tSTATE OF INCORPORATION:\t\t\tDE\n",
      "\t\tFISCAL YEAR END:\t\t\t1231\n",
      "\n",
      "\tFILING VALUES:\n",
      "\t\tFORM TYPE:\t\t10-K\n",
      "\t\tSEC ACT:\t\t1934 Act\n",
      "\t\tSEC FILE NUMBER:\t001-00368\n",
      "\t\tFILM NUMBER:\t\t13633201\n",
      "\n",
      "\tBUSINESS ADDRESS:\t\n",
      "\t\tSTREET 1:\t\t6001 BOLLINGER CANYON ROAD\n",
      "\t\tCITY:\t\t\tSAN RAMON\n",
      "\t\tSTATE:\t\t\tCA\n",
      "\t\tZIP:\t\t\t94583\n",
      "\t\tBUSINESS PHONE:\t\t925-842-1000\n",
      "\n",
      "\tMAIL ADDRESS:\t\n",
      "\t\tSTREET 1:\t\t6001 BOLLINGER CANYON ROAD\n",
      "\t\tCITY:\t\t\tSAN RAMON\n",
      "\t\tSTATE:\t\t\tCA\n",
      "\t\tZIP:\t\t\t94583\n",
      "\n",
      "\tFORMER COMPANY:\t\n",
      "\t\tFORMER CONFORMED NAME:\tCHEVRONTEXACO COR\n"
     ]
    }
   ],
   "source": [
    "print((raw_fillings_by_ticker['CVX']['2013-02-22'][:1000]))"
   ]
  },
  {
   "cell_type": "markdown",
   "metadata": {},
   "source": [
    "### Get Documents\n",
    "With theses fillings downloaded, we want to break them into their associated documents. These documents are sectioned off in the fillings with the tags `<DOCUMENT>` for the start of each document and `</DOCUMENT>` for the end of each document. There's no overlap with these documents, so each `</DOCUMENT>` tag should come after the `<DOCUMENT>` with no `<DOCUMENT>` tag in between.\n",
    "\n",
    "Implement `get_documents` to return a list of these documents from a filling. Make sure not to include the tag in the returned document text."
   ]
  },
  {
   "cell_type": "code",
   "execution_count": 11,
   "metadata": {},
   "outputs": [
    {
     "name": "stdout",
     "output_type": "stream",
     "text": [
      "<class 'bs4.BeautifulSoup'>\n",
      "\n",
      "This is before the test document<document>\n",
      "This is inside the document\n",
      "This is the text that should be copied</document>\n",
      "This is after the document\n",
      "This shouldn\t be included.\n",
      "\n",
      "This is inside the document\n",
      "This is the text that should be copied\n"
     ]
    }
   ],
   "source": [
    "text = '''\n",
    "This is before the test document<DOCUMENT>\n",
    "This is inside the document\n",
    "This is the text that should be copied</DOCUMENT>\n",
    "This is after the document\n",
    "This shouldn\t be included.'''\n",
    "page_content = BeautifulSoup(text, 'html.parser')#.get_text()\n",
    "print(type(page_content))\n",
    "print(page_content)\n",
    "\n",
    "docs = page_content.find_all('document')\n",
    "for doc in docs:\n",
    "    print(doc.getText())\n"
   ]
  },
  {
   "cell_type": "code",
   "execution_count": 12,
   "metadata": {},
   "outputs": [
    {
     "name": "stdout",
     "output_type": "stream",
     "text": [
      "Tests Passed\n"
     ]
    }
   ],
   "source": [
    "import re\n",
    "\n",
    "\n",
    "def get_documents(text):\n",
    "    \"\"\"\n",
    "    Extract the documents from the text\n",
    "\n",
    "    Parameters\n",
    "    ----------\n",
    "    text : str\n",
    "        The text with the document strings inside\n",
    "\n",
    "    Returns\n",
    "    -------\n",
    "    extracted_docs : list of str\n",
    "        The document strings found in `text`\n",
    "    \"\"\"\n",
    "    \n",
    "    # TODO: Implement\n",
    "    # approach 1 ... doesn't work properly\n",
    "    '''\n",
    "    page_content = BeautifulSoup(text, 'html.parser')\n",
    "    docs = page_content.find_all('document')\n",
    "    texts_list = []\n",
    "    for doc in docs:\n",
    "        texts_list.append(doc.getText())\n",
    "    '''\n",
    "    \n",
    "    # approach 2\n",
    "    start_pat = re.compile('<DOCUMENT>')\n",
    "    end_pat = re.compile('</DOCUMENT>')\n",
    "    start_matches = start_pat.finditer(text)\n",
    "    end_matches = end_pat.finditer(text)\n",
    "    \n",
    "    texts_list = []\n",
    "    for s_match, e_match in zip(start_matches, end_matches):\n",
    "        texts_list.append(text[s_match.end(): e_match.start()])\n",
    "    \n",
    "    return texts_list\n",
    "    \n",
    "\n",
    "\n",
    "project_tests.test_get_documents(get_documents)"
   ]
  },
  {
   "cell_type": "markdown",
   "metadata": {},
   "source": [
    "With the `get_documents` function implemented, let's extract all the documents."
   ]
  },
  {
   "cell_type": "code",
   "execution_count": 13,
   "metadata": {
    "scrolled": false
   },
   "outputs": [
    {
     "name": "stderr",
     "output_type": "stream",
     "text": [
      "Getting Documents from BMY Fillings: 100%|██████████| 23/23 [00:00<00:00, 58.43filling/s]\n",
      "Getting Documents from HON Fillings: 100%|██████████| 20/20 [00:00<00:00, 66.23filling/s] \n",
      "Getting Documents from FRT Fillings: 100%|██████████| 19/19 [00:00<00:00, 80.76filling/s]\n",
      "Getting Documents from AMZN Fillings: 100%|██████████| 17/17 [00:00<00:00, 93.10filling/s] \n",
      "Getting Documents from CNP Fillings: 100%|██████████| 15/15 [00:00<00:00, 53.33filling/s]\n",
      "Getting Documents from FL Fillings: 100%|██████████| 16/16 [00:00<00:00, 88.95filling/s]\n",
      "Getting Documents from CVX Fillings: 100%|██████████| 21/21 [00:00<00:00, 43.22filling/s]"
     ]
    },
    {
     "name": "stdout",
     "output_type": "stream",
     "text": [
      "Document 0 Filed on 2008-02-11:\n",
      "\n",
      "<TYPE>10-K\n",
      "<SEQUENCE>1\n",
      "<FILENAME>d10k.htm\n",
      "<DESCRIPTION>FORM 10-K\n",
      "<TEXT>\n",
      "<HTML><HEAD>\n",
      "<TITLE>Form 10-K</TITLE>\n",
      "</HEAD>\n",
      " <BODY BGCOLOR=\"WHITE\">\n",
      "<h5 align=\"left\"><a href=\"#toc\">Table of Contents</a></h5...\n",
      "\n",
      "Document 1 Filed on 2008-02-11:\n",
      "\n",
      "<TYPE>EX-10.4\n",
      "<SEQUENCE>2\n",
      "<FILENAME>dex104.htm\n",
      "<DESCRIPTION>OFFER LETTER OF EMPLOYMENT DATED JUNE 23, 2006\n",
      "<TEXT>\n",
      "<HTML><HEAD>\n",
      "<TITLE>Offer Letter of Employment dated June 23, 2006</TITLE>\n",
      "</HEAD>\n",
      " <...\n",
      "\n",
      "Document 2 Filed on 2008-02-11:\n",
      "\n",
      "<TYPE>EX-10.5\n",
      "<SEQUENCE>3\n",
      "<FILENAME>dex105.htm\n",
      "<DESCRIPTION>OFFER LETTER OF EMPLOYMENT DATED NOVEMBER 27, 2006\n",
      "<TEXT>\n",
      "<HTML><HEAD>\n",
      "<TITLE>Offer Letter of Employment dated November 27, 2006</TITLE>\n",
      "</...\n"
     ]
    },
    {
     "name": "stderr",
     "output_type": "stream",
     "text": [
      "\n"
     ]
    }
   ],
   "source": [
    "filling_documents_by_ticker = {}\n",
    "\n",
    "for ticker, raw_fillings in raw_fillings_by_ticker.items():\n",
    "    filling_documents_by_ticker[ticker] = {}\n",
    "    for file_date, filling in tqdm(raw_fillings.items(), desc='Getting Documents from {} Fillings'.format(ticker), unit='filling'):\n",
    "        filling_documents_by_ticker[ticker][file_date] = get_documents(filling)\n",
    "\n",
    "\n",
    "print('\\n\\n'.join([\n",
    "    'Document {} Filed on {}:\\n{}...'.format(doc_i, file_date, doc[:200])\n",
    "    for file_date, docs in filling_documents_by_ticker[example_ticker].items()\n",
    "    for doc_i, doc in enumerate(docs)][:3]))"
   ]
  },
  {
   "cell_type": "markdown",
   "metadata": {},
   "source": [
    "### Get Document Types\n",
    "Now that we have all the documents, we want to find the 10-k form in this 10-k filing. Implement the `get_document_type` function to return the type of document given. The document type is located on a line with the `<TYPE>` tag. For example, a form of type \"TEST\" would have the line `<TYPE>TEST`. Make sure to return the type as lowercase, so this example would be returned as \"test\"."
   ]
  },
  {
   "cell_type": "code",
   "execution_count": 14,
   "metadata": {},
   "outputs": [
    {
     "name": "stdout",
     "output_type": "stream",
     "text": [
      "Tests Passed\n"
     ]
    }
   ],
   "source": [
    "def get_document_type(doc):\n",
    "    \"\"\"\n",
    "    Return the document type lowercased\n",
    "\n",
    "    Parameters\n",
    "    ----------\n",
    "    doc : str\n",
    "        The document string\n",
    "\n",
    "    Returns\n",
    "    -------\n",
    "    doc_type : str\n",
    "        The document type lowercased\n",
    "    \"\"\"\n",
    "    \n",
    "    # TODO: Implement\n",
    "    type_pat = re.compile(r'<TYPE>[^\\n]+')\n",
    "    doc_type = type_pat.findall(doc)\n",
    "    \n",
    "    return doc_type[0][len('<TYPE>'):].lower()\n",
    "\n",
    "\n",
    "project_tests.test_get_document_type(get_document_type)"
   ]
  },
  {
   "cell_type": "markdown",
   "metadata": {},
   "source": [
    "With the `get_document_type` function, we'll filter out all non 10-k documents."
   ]
  },
  {
   "cell_type": "code",
   "execution_count": 15,
   "metadata": {},
   "outputs": [
    {
     "name": "stdout",
     "output_type": "stream",
     "text": [
      "[\n",
      "  {\n",
      "    cik: '0001018724'\n",
      "    file: '\\n<TYPE>10-K\\n<SEQUENCE>1\\n<FILENAME>d10k.htm\\n<D...\n",
      "    file_date: '2008-02-11'},\n",
      "  {\n",
      "    cik: '0001018724'\n",
      "    file: '\\n<TYPE>10-K\\n<SEQUENCE>1\\n<FILENAME>d10k.htm\\n<D...\n",
      "    file_date: '2010-01-29'},\n",
      "  {\n",
      "    cik: '0001018724'\n",
      "    file: '\\n<TYPE>10-K\\n<SEQUENCE>1\\n<FILENAME>amzn-2013123...\n",
      "    file_date: '2014-01-31'},\n",
      "  {\n",
      "    cik: '0001018724'\n",
      "    file: '\\n<TYPE>10-K\\n<SEQUENCE>1\\n<FILENAME>d10k.htm\\n<D...\n",
      "    file_date: '2009-01-30'},\n",
      "  {\n",
      "    cik: '0001018724'\n",
      "    file: '\\n<TYPE>10-K\\n<SEQUENCE>1\\n<DESCRIPTION>FORM 10-K...\n",
      "    file_date: '2000-03-29'},\n",
      "]\n"
     ]
    }
   ],
   "source": [
    "ten_ks_by_ticker = {}\n",
    "\n",
    "for ticker, filling_documents in filling_documents_by_ticker.items():\n",
    "    ten_ks_by_ticker[ticker] = []\n",
    "    for file_date, documents in filling_documents.items():\n",
    "        for document in documents:\n",
    "            if get_document_type(document) == '10-k':\n",
    "                ten_ks_by_ticker[ticker].append({\n",
    "                    'cik': cik_lookup[ticker],\n",
    "                    'file': document,\n",
    "                    'file_date': file_date})\n",
    "\n",
    "\n",
    "project_helper.print_ten_k_data(ten_ks_by_ticker[example_ticker][:5], ['cik', 'file', 'file_date'])"
   ]
  },
  {
   "cell_type": "markdown",
   "metadata": {},
   "source": [
    "## Preprocess the Data\n",
    "### Clean Up\n",
    "As you can see, the text for the documents are very messy. To clean this up, we'll remove the html and lowercase all the text."
   ]
  },
  {
   "cell_type": "code",
   "execution_count": 16,
   "metadata": {},
   "outputs": [],
   "source": [
    "def remove_html_tags(text):\n",
    "    text = BeautifulSoup(text, 'html.parser').get_text()\n",
    "    \n",
    "    return text\n",
    "\n",
    "\n",
    "def clean_text(text):\n",
    "    text = text.lower()\n",
    "    text = remove_html_tags(text)\n",
    "    \n",
    "    return text"
   ]
  },
  {
   "cell_type": "markdown",
   "metadata": {},
   "source": [
    "Using the `clean_text` function, we'll clean up all the documents."
   ]
  },
  {
   "cell_type": "code",
   "execution_count": 17,
   "metadata": {},
   "outputs": [
    {
     "name": "stderr",
     "output_type": "stream",
     "text": [
      "Cleaning BMY 10-Ks: 100%|██████████| 23/23 [00:49<00:00,  2.13s/10-K]\n",
      "Cleaning HON 10-Ks: 100%|██████████| 20/20 [00:43<00:00,  2.20s/10-K]\n",
      "Cleaning FRT 10-Ks: 100%|██████████| 19/19 [00:37<00:00,  1.96s/10-K]\n",
      "Cleaning AMZN 10-Ks: 100%|██████████| 17/17 [00:27<00:00,  1.63s/10-K]\n",
      "Cleaning CNP 10-Ks:  87%|████████▋ | 13/15 [00:33<00:05,  2.61s/10-K]\n"
     ]
    },
    {
     "ename": "KeyboardInterrupt",
     "evalue": "",
     "output_type": "error",
     "traceback": [
      "\u001b[0;31m---------------------------------------------------------------------------\u001b[0m",
      "\u001b[0;31mKeyboardInterrupt\u001b[0m                         Traceback (most recent call last)",
      "\u001b[0;32m<ipython-input-17-e75cb62fdc2b>\u001b[0m in \u001b[0;36m<module>\u001b[0;34m()\u001b[0m\n\u001b[1;32m      1\u001b[0m \u001b[0;32mfor\u001b[0m \u001b[0mticker\u001b[0m\u001b[0;34m,\u001b[0m \u001b[0mten_ks\u001b[0m \u001b[0;32min\u001b[0m \u001b[0mten_ks_by_ticker\u001b[0m\u001b[0;34m.\u001b[0m\u001b[0mitems\u001b[0m\u001b[0;34m(\u001b[0m\u001b[0;34m)\u001b[0m\u001b[0;34m:\u001b[0m\u001b[0;34m\u001b[0m\u001b[0m\n\u001b[1;32m      2\u001b[0m     \u001b[0;32mfor\u001b[0m \u001b[0mten_k\u001b[0m \u001b[0;32min\u001b[0m \u001b[0mtqdm\u001b[0m\u001b[0;34m(\u001b[0m\u001b[0mten_ks\u001b[0m\u001b[0;34m,\u001b[0m \u001b[0mdesc\u001b[0m\u001b[0;34m=\u001b[0m\u001b[0;34m'Cleaning {} 10-Ks'\u001b[0m\u001b[0;34m.\u001b[0m\u001b[0mformat\u001b[0m\u001b[0;34m(\u001b[0m\u001b[0mticker\u001b[0m\u001b[0;34m)\u001b[0m\u001b[0;34m,\u001b[0m \u001b[0munit\u001b[0m\u001b[0;34m=\u001b[0m\u001b[0;34m'10-K'\u001b[0m\u001b[0;34m)\u001b[0m\u001b[0;34m:\u001b[0m\u001b[0;34m\u001b[0m\u001b[0m\n\u001b[0;32m----> 3\u001b[0;31m         \u001b[0mten_k\u001b[0m\u001b[0;34m[\u001b[0m\u001b[0;34m'file_clean'\u001b[0m\u001b[0;34m]\u001b[0m \u001b[0;34m=\u001b[0m \u001b[0mclean_text\u001b[0m\u001b[0;34m(\u001b[0m\u001b[0mten_k\u001b[0m\u001b[0;34m[\u001b[0m\u001b[0;34m'file'\u001b[0m\u001b[0;34m]\u001b[0m\u001b[0;34m)\u001b[0m\u001b[0;34m\u001b[0m\u001b[0m\n\u001b[0m\u001b[1;32m      4\u001b[0m \u001b[0;34m\u001b[0m\u001b[0m\n\u001b[1;32m      5\u001b[0m \u001b[0;34m\u001b[0m\u001b[0m\n",
      "\u001b[0;32m<ipython-input-16-1b8e70a01b34>\u001b[0m in \u001b[0;36mclean_text\u001b[0;34m(text)\u001b[0m\n\u001b[1;32m      7\u001b[0m \u001b[0;32mdef\u001b[0m \u001b[0mclean_text\u001b[0m\u001b[0;34m(\u001b[0m\u001b[0mtext\u001b[0m\u001b[0;34m)\u001b[0m\u001b[0;34m:\u001b[0m\u001b[0;34m\u001b[0m\u001b[0m\n\u001b[1;32m      8\u001b[0m     \u001b[0mtext\u001b[0m \u001b[0;34m=\u001b[0m \u001b[0mtext\u001b[0m\u001b[0;34m.\u001b[0m\u001b[0mlower\u001b[0m\u001b[0;34m(\u001b[0m\u001b[0;34m)\u001b[0m\u001b[0;34m\u001b[0m\u001b[0m\n\u001b[0;32m----> 9\u001b[0;31m     \u001b[0mtext\u001b[0m \u001b[0;34m=\u001b[0m \u001b[0mremove_html_tags\u001b[0m\u001b[0;34m(\u001b[0m\u001b[0mtext\u001b[0m\u001b[0;34m)\u001b[0m\u001b[0;34m\u001b[0m\u001b[0m\n\u001b[0m\u001b[1;32m     10\u001b[0m \u001b[0;34m\u001b[0m\u001b[0m\n\u001b[1;32m     11\u001b[0m     \u001b[0;32mreturn\u001b[0m \u001b[0mtext\u001b[0m\u001b[0;34m\u001b[0m\u001b[0m\n",
      "\u001b[0;32m<ipython-input-16-1b8e70a01b34>\u001b[0m in \u001b[0;36mremove_html_tags\u001b[0;34m(text)\u001b[0m\n\u001b[1;32m      1\u001b[0m \u001b[0;32mdef\u001b[0m \u001b[0mremove_html_tags\u001b[0m\u001b[0;34m(\u001b[0m\u001b[0mtext\u001b[0m\u001b[0;34m)\u001b[0m\u001b[0;34m:\u001b[0m\u001b[0;34m\u001b[0m\u001b[0m\n\u001b[0;32m----> 2\u001b[0;31m     \u001b[0mtext\u001b[0m \u001b[0;34m=\u001b[0m \u001b[0mBeautifulSoup\u001b[0m\u001b[0;34m(\u001b[0m\u001b[0mtext\u001b[0m\u001b[0;34m,\u001b[0m \u001b[0;34m'html.parser'\u001b[0m\u001b[0;34m)\u001b[0m\u001b[0;34m.\u001b[0m\u001b[0mget_text\u001b[0m\u001b[0;34m(\u001b[0m\u001b[0;34m)\u001b[0m\u001b[0;34m\u001b[0m\u001b[0m\n\u001b[0m\u001b[1;32m      3\u001b[0m \u001b[0;34m\u001b[0m\u001b[0m\n\u001b[1;32m      4\u001b[0m     \u001b[0;32mreturn\u001b[0m \u001b[0mtext\u001b[0m\u001b[0;34m\u001b[0m\u001b[0m\n\u001b[1;32m      5\u001b[0m \u001b[0;34m\u001b[0m\u001b[0m\n",
      "\u001b[0;32m/home/amir/software/anaconda3/envs/tradingnlp/lib/python3.5/site-packages/bs4/__init__.py\u001b[0m in \u001b[0;36m__init__\u001b[0;34m(self, markup, features, builder, parse_only, from_encoding, exclude_encodings, element_classes, **kwargs)\u001b[0m\n\u001b[1;32m    322\u001b[0m             \u001b[0mself\u001b[0m\u001b[0;34m.\u001b[0m\u001b[0mreset\u001b[0m\u001b[0;34m(\u001b[0m\u001b[0;34m)\u001b[0m\u001b[0;34m\u001b[0m\u001b[0m\n\u001b[1;32m    323\u001b[0m             \u001b[0;32mtry\u001b[0m\u001b[0;34m:\u001b[0m\u001b[0;34m\u001b[0m\u001b[0m\n\u001b[0;32m--> 324\u001b[0;31m                 \u001b[0mself\u001b[0m\u001b[0;34m.\u001b[0m\u001b[0m_feed\u001b[0m\u001b[0;34m(\u001b[0m\u001b[0;34m)\u001b[0m\u001b[0;34m\u001b[0m\u001b[0m\n\u001b[0m\u001b[1;32m    325\u001b[0m                 \u001b[0msuccess\u001b[0m \u001b[0;34m=\u001b[0m \u001b[0;32mTrue\u001b[0m\u001b[0;34m\u001b[0m\u001b[0m\n\u001b[1;32m    326\u001b[0m                 \u001b[0;32mbreak\u001b[0m\u001b[0;34m\u001b[0m\u001b[0m\n",
      "\u001b[0;32m/home/amir/software/anaconda3/envs/tradingnlp/lib/python3.5/site-packages/bs4/__init__.py\u001b[0m in \u001b[0;36m_feed\u001b[0;34m(self)\u001b[0m\n\u001b[1;32m    407\u001b[0m         \u001b[0mself\u001b[0m\u001b[0;34m.\u001b[0m\u001b[0mbuilder\u001b[0m\u001b[0;34m.\u001b[0m\u001b[0mreset\u001b[0m\u001b[0;34m(\u001b[0m\u001b[0;34m)\u001b[0m\u001b[0;34m\u001b[0m\u001b[0m\n\u001b[1;32m    408\u001b[0m \u001b[0;34m\u001b[0m\u001b[0m\n\u001b[0;32m--> 409\u001b[0;31m         \u001b[0mself\u001b[0m\u001b[0;34m.\u001b[0m\u001b[0mbuilder\u001b[0m\u001b[0;34m.\u001b[0m\u001b[0mfeed\u001b[0m\u001b[0;34m(\u001b[0m\u001b[0mself\u001b[0m\u001b[0;34m.\u001b[0m\u001b[0mmarkup\u001b[0m\u001b[0;34m)\u001b[0m\u001b[0;34m\u001b[0m\u001b[0m\n\u001b[0m\u001b[1;32m    410\u001b[0m         \u001b[0;31m# Close out any unfinished strings and close all the open tags.\u001b[0m\u001b[0;34m\u001b[0m\u001b[0;34m\u001b[0m\u001b[0m\n\u001b[1;32m    411\u001b[0m         \u001b[0mself\u001b[0m\u001b[0;34m.\u001b[0m\u001b[0mendData\u001b[0m\u001b[0;34m(\u001b[0m\u001b[0;34m)\u001b[0m\u001b[0;34m\u001b[0m\u001b[0m\n",
      "\u001b[0;32m/home/amir/software/anaconda3/envs/tradingnlp/lib/python3.5/site-packages/bs4/builder/_htmlparser.py\u001b[0m in \u001b[0;36mfeed\u001b[0;34m(self, markup)\u001b[0m\n\u001b[1;32m    337\u001b[0m         \u001b[0mparser\u001b[0m\u001b[0;34m.\u001b[0m\u001b[0msoup\u001b[0m \u001b[0;34m=\u001b[0m \u001b[0mself\u001b[0m\u001b[0;34m.\u001b[0m\u001b[0msoup\u001b[0m\u001b[0;34m\u001b[0m\u001b[0m\n\u001b[1;32m    338\u001b[0m         \u001b[0;32mtry\u001b[0m\u001b[0;34m:\u001b[0m\u001b[0;34m\u001b[0m\u001b[0m\n\u001b[0;32m--> 339\u001b[0;31m             \u001b[0mparser\u001b[0m\u001b[0;34m.\u001b[0m\u001b[0mfeed\u001b[0m\u001b[0;34m(\u001b[0m\u001b[0mmarkup\u001b[0m\u001b[0;34m)\u001b[0m\u001b[0;34m\u001b[0m\u001b[0m\n\u001b[0m\u001b[1;32m    340\u001b[0m             \u001b[0mparser\u001b[0m\u001b[0;34m.\u001b[0m\u001b[0mclose\u001b[0m\u001b[0;34m(\u001b[0m\u001b[0;34m)\u001b[0m\u001b[0;34m\u001b[0m\u001b[0m\n\u001b[1;32m    341\u001b[0m         \u001b[0;32mexcept\u001b[0m \u001b[0mHTMLParseError\u001b[0m \u001b[0;32mas\u001b[0m \u001b[0me\u001b[0m\u001b[0;34m:\u001b[0m\u001b[0;34m\u001b[0m\u001b[0m\n",
      "\u001b[0;32m/home/amir/software/anaconda3/envs/tradingnlp/lib/python3.5/html/parser.py\u001b[0m in \u001b[0;36mfeed\u001b[0;34m(self, data)\u001b[0m\n\u001b[1;32m    109\u001b[0m         \"\"\"\n\u001b[1;32m    110\u001b[0m         \u001b[0mself\u001b[0m\u001b[0;34m.\u001b[0m\u001b[0mrawdata\u001b[0m \u001b[0;34m=\u001b[0m \u001b[0mself\u001b[0m\u001b[0;34m.\u001b[0m\u001b[0mrawdata\u001b[0m \u001b[0;34m+\u001b[0m \u001b[0mdata\u001b[0m\u001b[0;34m\u001b[0m\u001b[0m\n\u001b[0;32m--> 111\u001b[0;31m         \u001b[0mself\u001b[0m\u001b[0;34m.\u001b[0m\u001b[0mgoahead\u001b[0m\u001b[0;34m(\u001b[0m\u001b[0;36m0\u001b[0m\u001b[0;34m)\u001b[0m\u001b[0;34m\u001b[0m\u001b[0m\n\u001b[0m\u001b[1;32m    112\u001b[0m \u001b[0;34m\u001b[0m\u001b[0m\n\u001b[1;32m    113\u001b[0m     \u001b[0;32mdef\u001b[0m \u001b[0mclose\u001b[0m\u001b[0;34m(\u001b[0m\u001b[0mself\u001b[0m\u001b[0;34m)\u001b[0m\u001b[0;34m:\u001b[0m\u001b[0;34m\u001b[0m\u001b[0m\n",
      "\u001b[0;32m/home/amir/software/anaconda3/envs/tradingnlp/lib/python3.5/html/parser.py\u001b[0m in \u001b[0;36mgoahead\u001b[0;34m(self, end)\u001b[0m\n\u001b[1;32m    171\u001b[0m                     \u001b[0mk\u001b[0m \u001b[0;34m=\u001b[0m \u001b[0mself\u001b[0m\u001b[0;34m.\u001b[0m\u001b[0mparse_starttag\u001b[0m\u001b[0;34m(\u001b[0m\u001b[0mi\u001b[0m\u001b[0;34m)\u001b[0m\u001b[0;34m\u001b[0m\u001b[0m\n\u001b[1;32m    172\u001b[0m                 \u001b[0;32melif\u001b[0m \u001b[0mstartswith\u001b[0m\u001b[0;34m(\u001b[0m\u001b[0;34m\"</\"\u001b[0m\u001b[0;34m,\u001b[0m \u001b[0mi\u001b[0m\u001b[0;34m)\u001b[0m\u001b[0;34m:\u001b[0m\u001b[0;34m\u001b[0m\u001b[0m\n\u001b[0;32m--> 173\u001b[0;31m                     \u001b[0mk\u001b[0m \u001b[0;34m=\u001b[0m \u001b[0mself\u001b[0m\u001b[0;34m.\u001b[0m\u001b[0mparse_endtag\u001b[0m\u001b[0;34m(\u001b[0m\u001b[0mi\u001b[0m\u001b[0;34m)\u001b[0m\u001b[0;34m\u001b[0m\u001b[0m\n\u001b[0m\u001b[1;32m    174\u001b[0m                 \u001b[0;32melif\u001b[0m \u001b[0mstartswith\u001b[0m\u001b[0;34m(\u001b[0m\u001b[0;34m\"<!--\"\u001b[0m\u001b[0;34m,\u001b[0m \u001b[0mi\u001b[0m\u001b[0;34m)\u001b[0m\u001b[0;34m:\u001b[0m\u001b[0;34m\u001b[0m\u001b[0m\n\u001b[1;32m    175\u001b[0m                     \u001b[0mk\u001b[0m \u001b[0;34m=\u001b[0m \u001b[0mself\u001b[0m\u001b[0;34m.\u001b[0m\u001b[0mparse_comment\u001b[0m\u001b[0;34m(\u001b[0m\u001b[0mi\u001b[0m\u001b[0;34m)\u001b[0m\u001b[0;34m\u001b[0m\u001b[0m\n",
      "\u001b[0;32m/home/amir/software/anaconda3/envs/tradingnlp/lib/python3.5/html/parser.py\u001b[0m in \u001b[0;36mparse_endtag\u001b[0;34m(self, i)\u001b[0m\n\u001b[1;32m    419\u001b[0m                 \u001b[0;32mreturn\u001b[0m \u001b[0mgtpos\u001b[0m\u001b[0;34m\u001b[0m\u001b[0m\n\u001b[1;32m    420\u001b[0m \u001b[0;34m\u001b[0m\u001b[0m\n\u001b[0;32m--> 421\u001b[0;31m         \u001b[0mself\u001b[0m\u001b[0;34m.\u001b[0m\u001b[0mhandle_endtag\u001b[0m\u001b[0;34m(\u001b[0m\u001b[0melem\u001b[0m\u001b[0;34m.\u001b[0m\u001b[0mlower\u001b[0m\u001b[0;34m(\u001b[0m\u001b[0;34m)\u001b[0m\u001b[0;34m)\u001b[0m\u001b[0;34m\u001b[0m\u001b[0m\n\u001b[0m\u001b[1;32m    422\u001b[0m         \u001b[0mself\u001b[0m\u001b[0;34m.\u001b[0m\u001b[0mclear_cdata_mode\u001b[0m\u001b[0;34m(\u001b[0m\u001b[0;34m)\u001b[0m\u001b[0;34m\u001b[0m\u001b[0m\n\u001b[1;32m    423\u001b[0m         \u001b[0;32mreturn\u001b[0m \u001b[0mgtpos\u001b[0m\u001b[0;34m\u001b[0m\u001b[0m\n",
      "\u001b[0;32m/home/amir/software/anaconda3/envs/tradingnlp/lib/python3.5/site-packages/bs4/builder/_htmlparser.py\u001b[0m in \u001b[0;36mhandle_endtag\u001b[0;34m(self, name, check_already_closed)\u001b[0m\n\u001b[1;32m    148\u001b[0m         \"\"\"\n\u001b[1;32m    149\u001b[0m         \u001b[0;31m#print \"END\", name\u001b[0m\u001b[0;34m\u001b[0m\u001b[0;34m\u001b[0m\u001b[0m\n\u001b[0;32m--> 150\u001b[0;31m         \u001b[0;32mif\u001b[0m \u001b[0mcheck_already_closed\u001b[0m \u001b[0;32mand\u001b[0m \u001b[0mname\u001b[0m \u001b[0;32min\u001b[0m \u001b[0mself\u001b[0m\u001b[0;34m.\u001b[0m\u001b[0malready_closed_empty_element\u001b[0m\u001b[0;34m:\u001b[0m\u001b[0;34m\u001b[0m\u001b[0m\n\u001b[0m\u001b[1;32m    151\u001b[0m             \u001b[0;31m# This is a redundant end tag for an empty-element tag.\u001b[0m\u001b[0;34m\u001b[0m\u001b[0;34m\u001b[0m\u001b[0m\n\u001b[1;32m    152\u001b[0m             \u001b[0;31m# We've already called handle_endtag() for it, so just\u001b[0m\u001b[0;34m\u001b[0m\u001b[0;34m\u001b[0m\u001b[0m\n",
      "\u001b[0;31mKeyboardInterrupt\u001b[0m: "
     ]
    }
   ],
   "source": [
    "for ticker, ten_ks in ten_ks_by_ticker.items():\n",
    "    for ten_k in tqdm(ten_ks, desc='Cleaning {} 10-Ks'.format(ticker), unit='10-K'):\n",
    "        ten_k['file_clean'] = clean_text(ten_k['file'])\n",
    "\n",
    "\n",
    "project_helper.print_ten_k_data(ten_ks_by_ticker[example_ticker][:5], ['file_clean'])"
   ]
  },
  {
   "cell_type": "markdown",
   "metadata": {},
   "source": [
    "### Lemmatize\n",
    "With the text cleaned up, it's time to distill the verbs down. Implement the `lemmatize_words` function to lemmatize verbs in the list of words provided."
   ]
  },
  {
   "cell_type": "code",
   "execution_count": null,
   "metadata": {},
   "outputs": [],
   "source": [
    "from nltk.stem import WordNetLemmatizer\n",
    "from nltk.corpus import wordnet\n",
    "\n",
    "def lemmatize_words(words):\n",
    "    \"\"\"\n",
    "    Lemmatize words \n",
    "\n",
    "    Parameters\n",
    "    ----------\n",
    "    words : list of str\n",
    "        List of words\n",
    "\n",
    "    Returns\n",
    "    -------\n",
    "    lemmatized_words : list of str\n",
    "        List of lemmatized words\n",
    "    \"\"\"\n",
    "    \n",
    "    # TODO: Implement\n",
    "    lemmed = [WordNetLemmatizer().lemmatize(w, pos='v') for w in words]\n",
    "    return lemmed\n",
    "\n",
    "\n",
    "project_tests.test_lemmatize_words(lemmatize_words)"
   ]
  },
  {
   "cell_type": "markdown",
   "metadata": {},
   "source": [
    "With the `lemmatize_words` function implemented, let's lemmatize all the data."
   ]
  },
  {
   "cell_type": "code",
   "execution_count": null,
   "metadata": {},
   "outputs": [],
   "source": [
    "word_pattern = re.compile('\\w+')\n",
    "\n",
    "for ticker, ten_ks in ten_ks_by_ticker.items():\n",
    "    for ten_k in tqdm(ten_ks, desc='Lemmatize {} 10-Ks'.format(ticker), unit='10-K'):\n",
    "        ten_k['file_lemma'] = lemmatize_words(word_pattern.findall(ten_k['file_clean']))\n",
    "\n",
    "\n",
    "project_helper.print_ten_k_data(ten_ks_by_ticker[example_ticker][:5], ['file_lemma'])"
   ]
  },
  {
   "cell_type": "markdown",
   "metadata": {},
   "source": [
    "### Remove Stopwords"
   ]
  },
  {
   "cell_type": "code",
   "execution_count": null,
   "metadata": {},
   "outputs": [],
   "source": [
    "from nltk.corpus import stopwords\n",
    "\n",
    "\n",
    "lemma_english_stopwords = lemmatize_words(stopwords.words('english'))\n",
    "\n",
    "for ticker, ten_ks in ten_ks_by_ticker.items():\n",
    "    for ten_k in tqdm(ten_ks, desc='Remove Stop Words for {} 10-Ks'.format(ticker), unit='10-K'):\n",
    "        ten_k['file_lemma'] = [word for word in ten_k['file_lemma'] if word not in lemma_english_stopwords]\n",
    "\n",
    "\n",
    "print('Stop Words Removed')"
   ]
  },
  {
   "cell_type": "markdown",
   "metadata": {},
   "source": [
    "## Analysis on 10ks\n",
    "### Loughran McDonald Sentiment Word Lists\n",
    "We'll be using the Loughran and McDonald sentiment word lists. These word lists cover the following sentiment:\n",
    "- Negative \n",
    "- Positive\n",
    "- Uncertainty\n",
    "- Litigious\n",
    "- Constraining\n",
    "- Superfluous\n",
    "- Modal\n",
    "\n",
    "This will allow us to do the sentiment analysis on the 10-ks. Let's first load these word lists. We'll be looking into a few of these sentiments."
   ]
  },
  {
   "cell_type": "code",
   "execution_count": null,
   "metadata": {},
   "outputs": [],
   "source": [
    "import os\n",
    "\n",
    "\n",
    "sentiments = ['negative', 'positive', 'uncertainty', 'litigious', 'constraining', 'interesting']\n",
    "\n",
    "sentiment_df = pd.read_csv(os.path.join('data', 'project_5_loughran_mcdonald', 'loughran_mcdonald_master_dic_2016.csv'))\n",
    "sentiment_df.columns = [column.lower() for column in sentiment_df.columns] # Lowercase the columns for ease of use\n",
    "\n",
    "# Remove unused information\n",
    "sentiment_df = sentiment_df[sentiments + ['word']]\n",
    "sentiment_df[sentiments] = sentiment_df[sentiments].astype(bool)\n",
    "sentiment_df = sentiment_df[(sentiment_df[sentiments]).any(1)]\n",
    "\n",
    "# Apply the same preprocessing to these words as the 10-k words\n",
    "sentiment_df['word'] = lemmatize_words(sentiment_df['word'].str.lower())\n",
    "sentiment_df = sentiment_df.drop_duplicates('word')\n",
    "\n",
    "\n",
    "sentiment_df.head()"
   ]
  },
  {
   "cell_type": "markdown",
   "metadata": {},
   "source": [
    "### Bag of Words\n",
    "using the sentiment word lists, let's generate sentiment bag of words from the 10-k documents. Implement `get_bag_of_words` to generate a bag of words that counts the number of sentiment words in each doc. You can ignore words that are not in `sentiment_words`."
   ]
  },
  {
   "cell_type": "code",
   "execution_count": null,
   "metadata": {},
   "outputs": [],
   "source": [
    "from collections import defaultdict, Counter\n",
    "from sklearn.feature_extraction.text import CountVectorizer\n",
    "\n",
    "def get_bag_of_words(sentiment_words, docs):\n",
    "    \"\"\"\n",
    "    Generate a bag of words from documents for a certain sentiment\n",
    "\n",
    "    Parameters\n",
    "    ----------\n",
    "    sentiment_words: Pandas Series\n",
    "        Words that signify a certain sentiment\n",
    "    docs : list of str\n",
    "        List of documents used to generate bag of words\n",
    "\n",
    "    Returns\n",
    "    -------\n",
    "    bag_of_words : 2-d Numpy Ndarray of int\n",
    "        Bag of words sentiment for each document\n",
    "        The first dimension is the document.\n",
    "        The second dimension is the word.\n",
    "    \"\"\"\n",
    "    \n",
    "    # TODO: Implement\n",
    "    cnt_vec = CountVectorizer(vocabulary=sentiment_words)\n",
    "    bag_of_words = cnt_vec.fit_transform(docs).toarray()\n",
    "    \n",
    "    return bag_of_words\n",
    "\n",
    "project_tests.test_get_bag_of_words(get_bag_of_words)"
   ]
  },
  {
   "cell_type": "markdown",
   "metadata": {},
   "source": [
    "Using the `get_bag_of_words` function, we'll generate a bag of words for all the documents."
   ]
  },
  {
   "cell_type": "code",
   "execution_count": null,
   "metadata": {},
   "outputs": [],
   "source": [
    "sentiment_bow_ten_ks = {}\n",
    "\n",
    "for ticker, ten_ks in ten_ks_by_ticker.items():\n",
    "    lemma_docs = [' '.join(ten_k['file_lemma']) for ten_k in ten_ks]\n",
    "    \n",
    "    sentiment_bow_ten_ks[ticker] = {\n",
    "        sentiment: get_bag_of_words(sentiment_df[sentiment_df[sentiment]]['word'], lemma_docs)\n",
    "        for sentiment in sentiments}\n",
    "\n",
    "\n",
    "project_helper.print_ten_k_data([sentiment_bow_ten_ks[example_ticker]], sentiments)"
   ]
  },
  {
   "cell_type": "markdown",
   "metadata": {},
   "source": [
    "### Jaccard Similarity\n",
    "Using the bag of words, let's calculate the jaccard similarity on the bag of words and plot it over time. Implement `get_jaccard_similarity` to return the jaccard similarities between each tick in time. Since the input, `bag_of_words_matrix`, is a bag of words for each time period in order, you just need to compute the jaccard similarities for each neighboring bag of words. Make sure to turn the bag of words into a boolean array when calculating the jaccard similarity."
   ]
  },
  {
   "cell_type": "code",
   "execution_count": null,
   "metadata": {},
   "outputs": [],
   "source": [
    "from sklearn.metrics import jaccard_similarity_score\n",
    "\n",
    "\n",
    "def get_jaccard_similarity(bag_of_words_matrix):\n",
    "    \"\"\"\n",
    "    Get jaccard similarities for neighboring documents\n",
    "\n",
    "    Parameters\n",
    "    ----------\n",
    "    bag_of_words : 2-d Numpy Ndarray of int\n",
    "        Bag of words sentiment for each document\n",
    "        The first dimension is the document.\n",
    "        The second dimension is the word.\n",
    "\n",
    "    Returns\n",
    "    -------\n",
    "    jaccard_similarities : list of float\n",
    "        Jaccard similarities for neighboring documents\n",
    "    \"\"\"\n",
    "    \n",
    "    # TODO: Implement\n",
    "    bag_of_words = bag_of_words_matrix.astype(bool)\n",
    "    jaccard_similarities = [jaccard_similarity_score(u,v) for u, v in zip(bag_of_words,bag_of_words[1:])]\n",
    "    \n",
    "    return jaccard_similarities\n",
    "\n",
    "\n",
    "project_tests.test_get_jaccard_similarity(get_jaccard_similarity)"
   ]
  },
  {
   "cell_type": "markdown",
   "metadata": {},
   "source": [
    "Using the `get_jaccard_similarity` function, let's plot the similarities over time."
   ]
  },
  {
   "cell_type": "code",
   "execution_count": null,
   "metadata": {},
   "outputs": [],
   "source": [
    "# Get dates for the universe\n",
    "file_dates = {\n",
    "    ticker: [ten_k['file_date'] for ten_k in ten_ks]\n",
    "    for ticker, ten_ks in ten_ks_by_ticker.items()}  \n",
    "\n",
    "jaccard_similarities = {\n",
    "    ticker: {\n",
    "        sentiment_name: get_jaccard_similarity(sentiment_values)\n",
    "        for sentiment_name, sentiment_values in ten_k_sentiments.items()}\n",
    "    for ticker, ten_k_sentiments in sentiment_bow_ten_ks.items()}\n",
    "\n",
    "\n",
    "project_helper.plot_similarities(\n",
    "    [jaccard_similarities[example_ticker][sentiment] for sentiment in sentiments],\n",
    "    file_dates[example_ticker][1:],\n",
    "    'Jaccard Similarities for {} Sentiment'.format(example_ticker),\n",
    "    sentiments)"
   ]
  },
  {
   "cell_type": "markdown",
   "metadata": {},
   "source": [
    "### TFIDF\n",
    "using the sentiment word lists, let's generate sentiment TFIDF from the 10-k documents. Implement `get_tfidf` to generate TFIDF from each document, using sentiment words as the terms. You can ignore words that are not in `sentiment_words`."
   ]
  },
  {
   "cell_type": "code",
   "execution_count": null,
   "metadata": {},
   "outputs": [],
   "source": [
    "from sklearn.feature_extraction.text import TfidfVectorizer\n",
    "\n",
    "\n",
    "def get_tfidf(sentiment_words, docs):\n",
    "    \"\"\"\n",
    "    Generate TFIDF values from documents for a certain sentiment\n",
    "\n",
    "    Parameters\n",
    "    ----------\n",
    "    sentiment_words: Pandas Series\n",
    "        Words that signify a certain sentiment\n",
    "    docs : list of str\n",
    "        List of documents used to generate bag of words\n",
    "\n",
    "    Returns\n",
    "    -------\n",
    "    tfidf : 2-d Numpy Ndarray of float\n",
    "        TFIDF sentiment for each document\n",
    "        The first dimension is the document.\n",
    "        The second dimension is the word.\n",
    "    \"\"\"\n",
    "    \n",
    "    # TODO: Implement\n",
    "    vectorizer = TfidfVectorizer(vocabulary = sentiment_words)\n",
    "    tfidf = vectorizer.fit_transform(docs).toarray()\n",
    "    \n",
    "    return tfidf\n",
    "\n",
    "\n",
    "project_tests.test_get_tfidf(get_tfidf)"
   ]
  },
  {
   "cell_type": "markdown",
   "metadata": {},
   "source": [
    "Using the `get_tfidf` function, let's generate the TFIDF values for all the documents."
   ]
  },
  {
   "cell_type": "code",
   "execution_count": null,
   "metadata": {},
   "outputs": [],
   "source": [
    "sentiment_tfidf_ten_ks = {}\n",
    "\n",
    "for ticker, ten_ks in ten_ks_by_ticker.items():\n",
    "    lemma_docs = [' '.join(ten_k['file_lemma']) for ten_k in ten_ks]\n",
    "    \n",
    "    sentiment_tfidf_ten_ks[ticker] = {\n",
    "        sentiment: get_tfidf(sentiment_df[sentiment_df[sentiment]]['word'], lemma_docs)\n",
    "        for sentiment in sentiments}\n",
    "\n",
    "    \n",
    "project_helper.print_ten_k_data([sentiment_tfidf_ten_ks[example_ticker]], sentiments)"
   ]
  },
  {
   "cell_type": "markdown",
   "metadata": {},
   "source": [
    "### Cosine Similarity\n",
    "Using the TFIDF values, we'll calculate the cosine similarity and plot it over time. Implement `get_cosine_similarity` to return the cosine similarities between each tick in time. Since the input, `tfidf_matrix`, is a TFIDF vector for each time period in order, you just need to computer the cosine similarities for each neighboring vector."
   ]
  },
  {
   "cell_type": "code",
   "execution_count": null,
   "metadata": {},
   "outputs": [],
   "source": [
    "from sklearn.metrics.pairwise import cosine_similarity\n",
    "\n",
    "\n",
    "def get_cosine_similarity(tfidf_matrix):\n",
    "    \"\"\"\n",
    "    Get cosine similarities for each neighboring TFIDF vector/document\n",
    "\n",
    "    Parameters\n",
    "    ----------\n",
    "    tfidf : 2-d Numpy Ndarray of float\n",
    "        TFIDF sentiment for each document\n",
    "        The first dimension is the document.\n",
    "        The second dimension is the word.\n",
    "\n",
    "    Returns\n",
    "    -------\n",
    "    cosine_similarities : list of float\n",
    "        Cosine similarities for neighboring documents\n",
    "    \"\"\"\n",
    "    \n",
    "    # TODO: Implement\n",
    "    cos_similarity= cosine_similarity(tfidf_matrix[0:], tfidf_matrix[1:])\n",
    "    \n",
    "    return cos_similarity[0].tolist()\n",
    "\n",
    "\n",
    "project_tests.test_get_cosine_similarity(get_cosine_similarity)"
   ]
  },
  {
   "cell_type": "markdown",
   "metadata": {},
   "source": [
    "Let's plot the cosine similarities over time."
   ]
  },
  {
   "cell_type": "code",
   "execution_count": null,
   "metadata": {},
   "outputs": [],
   "source": [
    "cosine_similarities = {\n",
    "    ticker: {\n",
    "        sentiment_name: get_cosine_similarity(sentiment_values)\n",
    "        for sentiment_name, sentiment_values in ten_k_sentiments.items()}\n",
    "    for ticker, ten_k_sentiments in sentiment_tfidf_ten_ks.items()}\n",
    "\n",
    "\n",
    "project_helper.plot_similarities(\n",
    "    [cosine_similarities[example_ticker][sentiment] for sentiment in sentiments],\n",
    "    file_dates[example_ticker][1:],\n",
    "    'Cosine Similarities for {} Sentiment'.format(example_ticker),\n",
    "    sentiments)"
   ]
  },
  {
   "cell_type": "markdown",
   "metadata": {},
   "source": []
  },
  {
   "cell_type": "markdown",
   "metadata": {},
   "source": [
    "## Evaluate Alpha Factors\n",
    "Just like we did in project 4, let's evaluate the alpha factors. For this section, we'll just be looking at the cosine similarities, but it can be applied to the jaccard similarities as well.\n",
    "### Price Data\n",
    "Let's get yearly pricing to run the factor against, since 10-Ks are produced annually."
   ]
  },
  {
   "cell_type": "code",
   "execution_count": null,
   "metadata": {},
   "outputs": [],
   "source": [
    "pricing = pd.read_csv('data/project_5_yr/yr-quotemedia.csv', parse_dates=['date'])\n",
    "pricing = pricing.pivot(index='date', columns='ticker', values='adj_close')\n",
    "\n",
    "\n",
    "pricing"
   ]
  },
  {
   "cell_type": "markdown",
   "metadata": {},
   "source": [
    "### Dict to DataFrame\n",
    "The alphalens library uses dataframes, so we we'll need to turn our dictionary into a dataframe. "
   ]
  },
  {
   "cell_type": "code",
   "execution_count": null,
   "metadata": {},
   "outputs": [],
   "source": [
    "cosine_similarities_df_dict = {'date': [], 'ticker': [], 'sentiment': [], 'value': []}\n",
    "\n",
    "\n",
    "for ticker, ten_k_sentiments in cosine_similarities.items():\n",
    "    for sentiment_name, sentiment_values in ten_k_sentiments.items():\n",
    "        for sentiment_values, sentiment_value in enumerate(sentiment_values):\n",
    "            cosine_similarities_df_dict['ticker'].append(ticker)\n",
    "            cosine_similarities_df_dict['sentiment'].append(sentiment_name)\n",
    "            cosine_similarities_df_dict['value'].append(sentiment_value)\n",
    "            cosine_similarities_df_dict['date'].append(file_dates[ticker][1:][sentiment_values])\n",
    "\n",
    "cosine_similarities_df = pd.DataFrame(cosine_similarities_df_dict)\n",
    "cosine_similarities_df['date'] = pd.DatetimeIndex(cosine_similarities_df['date']).year\n",
    "cosine_similarities_df['date'] = pd.to_datetime(cosine_similarities_df['date'], format='%Y')\n",
    "\n",
    "\n",
    "cosine_similarities_df.head()"
   ]
  },
  {
   "cell_type": "markdown",
   "metadata": {},
   "source": [
    "### Alphalens Format\n",
    "In order to use a lot of the alphalens functions, we need to aligned the indices and convert the time to unix timestamp. In this next cell, we'll do just that."
   ]
  },
  {
   "cell_type": "code",
   "execution_count": null,
   "metadata": {},
   "outputs": [],
   "source": [
    "import alphalens as al\n",
    "\n",
    "\n",
    "factor_data = {}\n",
    "skipped_sentiments = []\n",
    "\n",
    "for sentiment in sentiments:\n",
    "    cs_df = cosine_similarities_df[(cosine_similarities_df['sentiment'] == sentiment)]\n",
    "    cs_df = cs_df.pivot(index='date', columns='ticker', values='value')\n",
    "\n",
    "    try:\n",
    "        data = al.utils.get_clean_factor_and_forward_returns(cs_df.stack(), pricing, quantiles=5, bins=None, periods=[1])\n",
    "        factor_data[sentiment] = data\n",
    "    except:\n",
    "        skipped_sentiments.append(sentiment)\n",
    "\n",
    "if skipped_sentiments:\n",
    "    print('\\nSkipped the following sentiments:\\n{}'.format('\\n'.join(skipped_sentiments)))\n",
    "factor_data[sentiments[0]].head()"
   ]
  },
  {
   "cell_type": "markdown",
   "metadata": {},
   "source": [
    "### Alphalens Format with Unix Time\n",
    "Alphalen's `factor_rank_autocorrelation` and `mean_return_by_quantile` functions require unix timestamps to work, so we'll also create factor dataframes with unix time."
   ]
  },
  {
   "cell_type": "code",
   "execution_count": null,
   "metadata": {},
   "outputs": [],
   "source": [
    "unixt_factor_data = {\n",
    "    factor: data.set_index(pd.MultiIndex.from_tuples(\n",
    "        [(x.timestamp(), y) for x, y in data.index.values],\n",
    "        names=['date', 'asset']))\n",
    "    for factor, data in factor_data.items()}"
   ]
  },
  {
   "cell_type": "markdown",
   "metadata": {},
   "source": [
    "### Factor Returns\n",
    "Let's view the factor returns over time. We should be seeing it generally move up and to the right."
   ]
  },
  {
   "cell_type": "code",
   "execution_count": null,
   "metadata": {},
   "outputs": [],
   "source": [
    "ls_factor_returns = pd.DataFrame()\n",
    "\n",
    "for factor_name, data in factor_data.items():\n",
    "    ls_factor_returns[factor_name] = al.performance.factor_returns(data).iloc[:, 0]\n",
    "\n",
    "(1 + ls_factor_returns).cumprod().plot()"
   ]
  },
  {
   "cell_type": "markdown",
   "metadata": {},
   "source": [
    "### Basis Points Per Day per Quantile\n",
    "It is not enough to look just at the factor weighted return. A good alpha is also monotonic in quantiles. Let's looks the basis points for the factor returns."
   ]
  },
  {
   "cell_type": "code",
   "execution_count": null,
   "metadata": {},
   "outputs": [],
   "source": [
    "qr_factor_returns = pd.DataFrame()\n",
    "\n",
    "for factor_name, data in unixt_factor_data.items():\n",
    "    qr_factor_returns[factor_name] = al.performance.mean_return_by_quantile(data)[0].iloc[:, 0]\n",
    "\n",
    "(10000*qr_factor_returns).plot.bar(\n",
    "    subplots=True,\n",
    "    sharey=True,\n",
    "    layout=(5,3),\n",
    "    figsize=(14, 14),\n",
    "    legend=False)"
   ]
  },
  {
   "cell_type": "markdown",
   "metadata": {},
   "source": [
    "### Turnover Analysis\n",
    "Without doing a full and formal backtest, we can analyze how stable the alphas are over time. Stability in this sense means that from period to period, the alpha ranks do not change much. Since trading is costly, we always prefer, all other things being equal, that the ranks do not change significantly per period. We can measure this with the **Factor Rank Autocorrelation (FRA)**."
   ]
  },
  {
   "cell_type": "code",
   "execution_count": null,
   "metadata": {},
   "outputs": [],
   "source": [
    "ls_FRA = pd.DataFrame()\n",
    "\n",
    "for factor, data in unixt_factor_data.items():\n",
    "    ls_FRA[factor] = al.performance.factor_rank_autocorrelation(data)\n",
    "\n",
    "ls_FRA.plot(title=\"Factor Rank Autocorrelation\")"
   ]
  },
  {
   "cell_type": "markdown",
   "metadata": {},
   "source": [
    "### Sharpe Ratio of the Alphas\n",
    "The last analysis we'll do on the factors will be sharpe ratio. Let's see what the sharpe ratio for the factors are. Generally, a Sharpe Ratio of near 1.0 or higher is an acceptable single alpha for this universe."
   ]
  },
  {
   "cell_type": "code",
   "execution_count": null,
   "metadata": {},
   "outputs": [],
   "source": [
    "daily_annualization_factor = np.sqrt(252)\n",
    "\n",
    "(daily_annualization_factor * ls_factor_returns.mean() / ls_factor_returns.std()).round(2)"
   ]
  },
  {
   "cell_type": "markdown",
   "metadata": {},
   "source": [
    "That's it! You've successfully done sentiment analysis on 10-ks!\n",
    "## Submission\n",
    "Now that you're done with the project, it's time to submit it. Click the submit button in the bottom right. One of our reviewers will give you feedback on your project with a pass or not passed grade. You can continue to the next section while you wait for feedback."
   ]
  }
 ],
 "metadata": {
  "kernelspec": {
   "display_name": "Python 3",
   "language": "python",
   "name": "python3"
  },
  "language_info": {
   "codemirror_mode": {
    "name": "ipython",
    "version": 3
   },
   "file_extension": ".py",
   "mimetype": "text/x-python",
   "name": "python",
   "nbconvert_exporter": "python",
   "pygments_lexer": "ipython3",
   "version": "3.5.6"
  }
 },
 "nbformat": 4,
 "nbformat_minor": 2
}
